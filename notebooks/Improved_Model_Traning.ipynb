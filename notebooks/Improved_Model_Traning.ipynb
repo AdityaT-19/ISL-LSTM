{
 "cells": [
  {
   "cell_type": "code",
   "execution_count": 4,
   "metadata": {},
   "outputs": [],
   "source": [
    "import os\n",
    "import numpy as np\n",
    "import torch\n",
    "import torch.nn as nn\n",
    "import torch.nn.functional as F\n",
    "from torch.utils.data import Dataset, DataLoader, random_split\n",
    "import cv2\n",
    "import mediapipe as mp\n",
    "import pandas as pd\n",
    "import matplotlib.pyplot as plt\n",
    "import seaborn as sns\n",
    "from sklearn.metrics import confusion_matrix, classification_report\n",
    "import csv\n",
    "from tqdm import tqdm\n",
    "import shutil\n",
    "from collections import deque\n",
    "from scipy.stats import stats\n",
    "import time\n",
    "\n",
    "# Set random seeds for reproducibility\n",
    "torch.manual_seed(42)\n",
    "np.random.seed(42)\n",
    "if torch.cuda.is_available():\n",
    "    torch.cuda.manual_seed_all(42)"
   ]
  },
  {
   "cell_type": "code",
   "execution_count": 5,
   "metadata": {},
   "outputs": [],
   "source": [
    "class EnhancedGestureDataset(Dataset):\n",
    "    def __init__(self, data_dir, transform=None):\n",
    "        \"\"\"\n",
    "        Initialize the dataset with enhanced feature extraction.\n",
    "        \n",
    "        Args:\n",
    "            data_dir: Directory containing processed .npy files\n",
    "            transform: Optional data augmentation transforms\n",
    "        \"\"\"\n",
    "        self.file_paths = [os.path.join(data_dir, f) for f in os.listdir(data_dir) if f.endswith(\".npy\")]\n",
    "        self.transform = transform\n",
    "        \n",
    "        # Create label mapping\n",
    "        label_set = set()\n",
    "        for f in self.file_paths:\n",
    "            label = os.path.basename(f).split(\"_\")[0]\n",
    "            label_set.add(label)\n",
    "        \n",
    "        self.label2idx = {label: idx for idx, label in enumerate(sorted(label_set))}\n",
    "        self.idx2label = {idx: label for label, idx in self.label2idx.items()}\n",
    "        \n",
    "        print(f\"Found {len(self.file_paths)} samples with {len(label_set)} classes\")\n",
    "        print(f\"Label mapping: {self.label2idx}\")\n",
    "    \n",
    "    def __len__(self):\n",
    "        return len(self.file_paths)\n",
    "    \n",
    "    def __getitem__(self, idx):\n",
    "        file_path = self.file_paths[idx]\n",
    "        \n",
    "        # Load the sequence\n",
    "        try:\n",
    "            sequence = np.load(file_path)\n",
    "            \n",
    "            # Handle potential inconsistent shapes\n",
    "            if isinstance(sequence, np.ndarray) and sequence.dtype == 'object':\n",
    "                print(f\"Warning: Object array found in {file_path}, skipping\")\n",
    "                # Return a zero-filled sequence as placeholder\n",
    "                sequence = np.zeros((30, 354), dtype=np.float32)\n",
    "        except Exception as e:\n",
    "            print(f\"Error loading {file_path}: {e}\")\n",
    "            sequence = np.zeros((30, 354), dtype=np.float32)\n",
    "        \n",
    "        # Apply transformations if any\n",
    "        if self.transform:\n",
    "            sequence = self.transform(sequence)\n",
    "        \n",
    "        # Convert to tensor\n",
    "        sequence = torch.tensor(sequence, dtype=torch.float32)\n",
    "        \n",
    "        # Extract label from filename\n",
    "        label_str = os.path.basename(file_path).split(\"_\")[0]\n",
    "        label = self.label2idx[label_str]\n",
    "        label = torch.tensor(label, dtype=torch.long)\n",
    "        \n",
    "        return sequence, label"
   ]
  },
  {
   "cell_type": "code",
   "execution_count": 6,
   "metadata": {},
   "outputs": [],
   "source": [
    "class AttentionModule(nn.Module):\n",
    "    \"\"\"Self-attention module for temporal feature refinement\"\"\"\n",
    "    def __init__(self, hidden_size):\n",
    "        super(AttentionModule, self).__init__()\n",
    "        self.attention = nn.Sequential(\n",
    "            nn.Linear(hidden_size, hidden_size // 2),\n",
    "            nn.ReLU(),\n",
    "            nn.Linear(hidden_size // 2, 1)\n",
    "        )\n",
    "        \n",
    "    def forward(self, lstm_output):\n",
    "        # lstm_output shape: (batch, seq_len, hidden_size)\n",
    "        attn_weights = self.attention(lstm_output)  # (batch, seq_len, 1)\n",
    "        attn_weights = F.softmax(attn_weights, dim=1)  # Apply softmax over sequence dimension\n",
    "        \n",
    "        # Apply attention weights\n",
    "        context = torch.sum(attn_weights * lstm_output, dim=1)  # (batch, hidden_size)\n",
    "        return context, attn_weights\n",
    "\n",
    "class ImprovedGestureLSTM(nn.Module):\n",
    "    def __init__(self, input_size, hidden_size, num_layers, num_classes, dropout=0.5, bidirectional=True):\n",
    "        \"\"\"\n",
    "        Enhanced LSTM model with attention and residual connections.\n",
    "        \n",
    "        Args:\n",
    "            input_size: Number of features per frame\n",
    "            hidden_size: LSTM hidden size\n",
    "            num_layers: Number of LSTM layers\n",
    "            num_classes: Number of output classes\n",
    "            dropout: Dropout rate\n",
    "            bidirectional: Whether to use bidirectional LSTM\n",
    "        \"\"\"\n",
    "        super(ImprovedGestureLSTM, self).__init__()\n",
    "        self.hidden_size = hidden_size\n",
    "        self.num_layers = num_layers\n",
    "        self.bidirectional = bidirectional\n",
    "        self.direction_factor = 2 if bidirectional else 1\n",
    "        \n",
    "        # Feature embedding layer\n",
    "        self.embedding = nn.Sequential(\n",
    "            nn.Linear(input_size, hidden_size),\n",
    "            nn.LayerNorm(hidden_size),\n",
    "            nn.ReLU(),\n",
    "            nn.Dropout(dropout/2)\n",
    "        )\n",
    "        \n",
    "        # Main LSTM layers\n",
    "        self.lstm = nn.LSTM(\n",
    "            hidden_size, \n",
    "            hidden_size, \n",
    "            num_layers, \n",
    "            batch_first=True,\n",
    "            dropout=dropout if num_layers > 1 else 0,\n",
    "            bidirectional=bidirectional\n",
    "        )\n",
    "        \n",
    "        # Attention mechanism \n",
    "        self.attention = AttentionModule(hidden_size * self.direction_factor)\n",
    "        \n",
    "        # Classification layers\n",
    "        self.fc1 = nn.Linear(hidden_size * self.direction_factor, hidden_size)\n",
    "        self.layernorm = nn.LayerNorm(hidden_size)\n",
    "        self.dropout = nn.Dropout(dropout)\n",
    "        self.fc2 = nn.Linear(hidden_size, num_classes)\n",
    "    \n",
    "    def forward(self, x):\n",
    "        # x shape: (batch, seq_len, input_size)\n",
    "        batch_size, seq_len, _ = x.size()\n",
    "        \n",
    "        # Embed features\n",
    "        x = self.embedding(x)  # (batch, seq_len, hidden_size)\n",
    "        \n",
    "        # LSTM forward pass\n",
    "        lstm_out, _ = self.lstm(x)  # (batch, seq_len, hidden_size*direction_factor)\n",
    "        \n",
    "        # Apply attention\n",
    "        context, attention_weights = self.attention(lstm_out)\n",
    "        \n",
    "        # Classification layers with residual connection\n",
    "        out = self.fc1(context)\n",
    "        out = self.layernorm(out)\n",
    "        out = F.relu(out)\n",
    "        out = self.dropout(out)\n",
    "        out = self.fc2(out)\n",
    "        \n",
    "        return out, attention_weights"
   ]
  },
  {
   "cell_type": "code",
   "execution_count": 4,
   "metadata": {},
   "outputs": [],
   "source": [
    "def evaluate_model(model, test_loader, criterion, device, idx2label, model_name, graph_dir):\n",
    "    \"\"\"\n",
    "    Evaluate the model on the test set and generate confusion matrix.\n",
    "    \n",
    "    Args:\n",
    "        model: Trained model\n",
    "        test_loader: DataLoader for test set\n",
    "        criterion: Loss function\n",
    "        device: Device to run evaluation on\n",
    "        idx2label: Mapping from indices to labels\n",
    "        model_name: Name for saved visualization files\n",
    "        graph_dir: Directory to save graphs\n",
    "    \"\"\"\n",
    "    model.eval()\n",
    "    test_loss = 0.0\n",
    "    correct = 0\n",
    "    total = 0\n",
    "    all_preds = []\n",
    "    all_labels = []\n",
    "    \n",
    "    with torch.no_grad():\n",
    "        for sequences, labels in tqdm(test_loader, desc=\"Testing\"):\n",
    "            sequences, labels = sequences.to(device), labels.to(device)\n",
    "            outputs, _ = model(sequences)\n",
    "            loss = criterion(outputs, labels)\n",
    "            \n",
    "            test_loss += loss.item() * sequences.size(0)\n",
    "            _, predicted = torch.max(outputs, 1)\n",
    "            total += labels.size(0)\n",
    "            correct += (predicted == labels).sum().item()\n",
    "            \n",
    "            all_preds.extend(predicted.cpu().numpy())\n",
    "            all_labels.extend(labels.cpu().numpy())\n",
    "    \n",
    "    test_loss = test_loss / total\n",
    "    test_acc = (correct / total) * 100\n",
    "    \n",
    "    print(f\"Test Loss: {test_loss:.4f}, Test Accuracy: {test_acc:.2f}%\")\n",
    "    \n",
    "    # Generate confusion matrix\n",
    "    cm = confusion_matrix(all_labels, all_preds)\n",
    "    plt.figure(figsize=(10, 8))\n",
    "    sns.heatmap(cm, annot=True, fmt='d', cmap='Blues',\n",
    "                xticklabels=[idx2label[i] for i in range(len(idx2label))],\n",
    "                yticklabels=[idx2label[i] for i in range(len(idx2label))])\n",
    "    plt.xlabel('Predicted')\n",
    "    plt.ylabel('True')\n",
    "    plt.title('Confusion Matrix')\n",
    "    plt.tight_layout()\n",
    "    plt.savefig(os.path.join(graph_dir, f\"{model_name}_confusion_matrix.png\"))\n",
    "    \n",
    "    # Generate classification report\n",
    "    class_names = [idx2label[i] for i in range(len(idx2label))]\n",
    "    report = classification_report(all_labels, all_preds, target_names=class_names)\n",
    "    print(\"Classification Report:\")\n",
    "    print(report)\n",
    "    \n",
    "    # Save report to file\n",
    "    with open(os.path.join(graph_dir, f\"{model_name}_classification_report.txt\"), 'w') as f:\n",
    "        f.write(report)"
   ]
  },
  {
   "cell_type": "code",
   "execution_count": 5,
   "metadata": {},
   "outputs": [],
   "source": [
    "def train_model(data_dir, model_name=\"improved_model\", num_epochs=100, batch_size=32, \n",
    "                learning_rate=0.001, hidden_size=128, num_layers=2, dropout=0.5, \n",
    "                weight_decay=1e-5, patience=10, bidirectional=True):\n",
    "    \"\"\"\n",
    "    Train the model with improved techniques:\n",
    "    - Learning rate scheduling\n",
    "    - Early stopping\n",
    "    - Gradient clipping\n",
    "    - TensorBoard logging\n",
    "    \n",
    "    Args:\n",
    "        data_dir: Directory containing the processed data\n",
    "        model_name: Name for saved model files\n",
    "        num_epochs: Maximum number of training epochs\n",
    "        batch_size: Batch size for training\n",
    "        learning_rate: Initial learning rate\n",
    "        hidden_size: Size of LSTM hidden layers\n",
    "        num_layers: Number of LSTM layers\n",
    "        dropout: Dropout rate for regularization\n",
    "        weight_decay: L2 regularization factor\n",
    "        patience: Early stopping patience (epochs)\n",
    "        bidirectional: Whether to use bidirectional LSTM\n",
    "    \n",
    "    Returns:\n",
    "        Trained model and training history\n",
    "    \"\"\"\n",
    "    # Create output directories\n",
    "    model_dir = os.path.join(\"..\", \"models\")\n",
    "    log_dir = os.path.join(\"..\", \"logs\")\n",
    "    graph_dir = os.path.join(\"..\", \"graphs\")\n",
    "    \n",
    "    for directory in [model_dir, log_dir, graph_dir]:\n",
    "        os.makedirs(directory, exist_ok=True)\n",
    "    \n",
    "    # Create dataset and loaders\n",
    "    dataset = EnhancedGestureDataset(data_dir)\n",
    "    \n",
    "    # Split into train/val/test (70/15/15)\n",
    "    total_size = len(dataset)\n",
    "    train_size = int(0.7 * total_size)\n",
    "    val_size = int(0.15 * total_size)\n",
    "    test_size = total_size - train_size - val_size\n",
    "    \n",
    "    train_dataset, val_dataset, test_dataset = random_split(\n",
    "        dataset, [train_size, val_size, test_size]\n",
    "    )\n",
    "    \n",
    "    train_loader = DataLoader(train_dataset, batch_size=batch_size, shuffle=True)\n",
    "    val_loader = DataLoader(val_dataset, batch_size=batch_size)\n",
    "    test_loader = DataLoader(test_dataset, batch_size=batch_size)\n",
    "    \n",
    "    # Get input dimensions from a sample\n",
    "    sample_seq, _ = dataset[0]\n",
    "    input_size = sample_seq.shape[1]\n",
    "    num_classes = len(dataset.label2idx)\n",
    "    \n",
    "    # Initialize model\n",
    "    model = ImprovedGestureLSTM(\n",
    "        input_size=input_size,\n",
    "        hidden_size=hidden_size,\n",
    "        num_layers=num_layers,\n",
    "        num_classes=num_classes,\n",
    "        dropout=dropout,\n",
    "        bidirectional=bidirectional\n",
    "    )\n",
    "    \n",
    "    # Move model to GPU if available\n",
    "    device = torch.device(\"cuda\" if torch.cuda.is_available() else \"cpu\")\n",
    "    model = model.to(device)\n",
    "    \n",
    "    # Initialize loss function and optimizer\n",
    "    criterion = nn.CrossEntropyLoss()\n",
    "    optimizer = torch.optim.AdamW(\n",
    "        model.parameters(), \n",
    "        lr=learning_rate,\n",
    "        weight_decay=weight_decay\n",
    "    )\n",
    "    \n",
    "    # Learning rate scheduler\n",
    "    scheduler = torch.optim.lr_scheduler.ReduceLROnPlateau(\n",
    "        optimizer, \n",
    "        mode='min', \n",
    "        factor=0.5, \n",
    "        patience=5, \n",
    "        verbose=True\n",
    "    )\n",
    "    \n",
    "    # Initialize training history\n",
    "    history = {\n",
    "        'train_loss': [], 'train_acc': [],\n",
    "        'val_loss': [], 'val_acc': [],\n",
    "        'lr': []\n",
    "    }\n",
    "    \n",
    "    # Initialize early stopping variables\n",
    "    best_val_loss = float('inf')\n",
    "    best_epoch = 0\n",
    "    \n",
    "    # Start training\n",
    "    print(f\"Training on {device} with {train_size} training, {val_size} validation, {test_size} test samples\")\n",
    "    \n",
    "    # Create log file\n",
    "    log_file = os.path.join(log_dir, f\"{model_name}_training_log.csv\")\n",
    "    with open(log_file, mode=\"w\", newline=\"\") as file:\n",
    "        writer = csv.writer(file)\n",
    "        writer.writerow([\"epoch\", \"train_loss\", \"train_acc\", \"val_loss\", \"val_acc\", \"lr\"])\n",
    "    \n",
    "    for epoch in range(1, num_epochs + 1):\n",
    "        # Training phase\n",
    "        model.train()\n",
    "        train_loss = 0.0\n",
    "        correct = 0\n",
    "        total = 0\n",
    "        \n",
    "        pbar = tqdm(train_loader, desc=f\"Epoch {epoch}/{num_epochs} [Train]\")\n",
    "        for sequences, labels in pbar:\n",
    "            sequences, labels = sequences.to(device), labels.to(device)\n",
    "            \n",
    "            # Forward pass\n",
    "            optimizer.zero_grad()\n",
    "            outputs, _ = model(sequences)\n",
    "            loss = criterion(outputs, labels)\n",
    "            \n",
    "            # Backward pass\n",
    "            loss.backward()\n",
    "            \n",
    "            # Gradient clipping\n",
    "            torch.nn.utils.clip_grad_norm_(model.parameters(), max_norm=1.0)\n",
    "            \n",
    "            # Update weights\n",
    "            optimizer.step()\n",
    "            \n",
    "            # Track metrics\n",
    "            train_loss += loss.item() * sequences.size(0)\n",
    "            _, predicted = torch.max(outputs, 1)\n",
    "            total += labels.size(0)\n",
    "            correct += (predicted == labels).sum().item()\n",
    "            \n",
    "            # Update progress bar\n",
    "            pbar.set_postfix({\"loss\": loss.item(), \"acc\": correct/total})\n",
    "        \n",
    "        train_loss = train_loss / total\n",
    "        train_acc = (correct / total) * 100\n",
    "        \n",
    "        # Validation phase\n",
    "        model.eval()\n",
    "        val_loss = 0.0\n",
    "        correct_val = 0\n",
    "        total_val = 0\n",
    "        \n",
    "        with torch.no_grad():\n",
    "            for sequences, labels in tqdm(val_loader, desc=f\"Epoch {epoch}/{num_epochs} [Val]\"):\n",
    "                sequences, labels = sequences.to(device), labels.to(device)\n",
    "                outputs, _ = model(sequences)\n",
    "                loss = criterion(outputs, labels)\n",
    "                \n",
    "                val_loss += loss.item() * sequences.size(0)\n",
    "                _, predicted = torch.max(outputs, 1)\n",
    "                total_val += labels.size(0)\n",
    "                correct_val += (predicted == labels).sum().item()\n",
    "        \n",
    "        val_loss = val_loss / total_val\n",
    "        val_acc = (correct_val / total_val) * 100\n",
    "        \n",
    "        # Update learning rate\n",
    "        scheduler.step(val_loss)\n",
    "        current_lr = optimizer.param_groups[0]['lr']\n",
    "        \n",
    "        # Store metrics\n",
    "        history['train_loss'].append(train_loss)\n",
    "        history['train_acc'].append(train_acc)\n",
    "        history['val_loss'].append(val_loss)\n",
    "        history['val_acc'].append(val_acc)\n",
    "        history['lr'].append(current_lr)\n",
    "        \n",
    "        # Print progress\n",
    "        print(f\"Epoch [{epoch}/{num_epochs}] - \"\n",
    "              f\"Train Loss: {train_loss:.4f}, Train Acc: {train_acc:.2f}% | \"\n",
    "              f\"Val Loss: {val_loss:.4f}, Val Acc: {val_acc:.2f}% | \"\n",
    "              f\"LR: {current_lr:.6f}\")\n",
    "        \n",
    "        # Save metrics to CSV\n",
    "        with open(log_file, mode=\"a\", newline=\"\") as file:\n",
    "            writer = csv.writer(file)\n",
    "            writer.writerow([epoch, train_loss, train_acc, val_loss, val_acc, current_lr])\n",
    "        \n",
    "        # Check if this is the best model so far\n",
    "        if val_loss < best_val_loss:\n",
    "            best_val_loss = val_loss\n",
    "            best_epoch = epoch\n",
    "            \n",
    "            # Save the model\n",
    "            checkpoint = {\n",
    "                'epoch': epoch,\n",
    "                'model_state_dict': model.state_dict(),\n",
    "                'optimizer_state_dict': optimizer.state_dict(),\n",
    "                'val_loss': val_loss,\n",
    "                'val_acc': val_acc,\n",
    "                'train_loss': train_loss,\n",
    "                'train_acc': train_acc,\n",
    "                'label2idx': dataset.label2idx,\n",
    "                'idx2label': dataset.idx2label\n",
    "            }\n",
    "            \n",
    "            model_path = os.path.join(model_dir, f\"{model_name}_best.pt\")\n",
    "            torch.save(checkpoint, model_path)\n",
    "            print(f\"Model improved. Saved checkpoint to {model_path}\")\n",
    "        \n",
    "        # Early stopping check\n",
    "        if epoch - best_epoch >= patience:\n",
    "            print(f\"Early stopping triggered after {epoch} epochs!\")\n",
    "            break\n",
    "    \n",
    "    # Save final model\n",
    "    checkpoint = {\n",
    "        'epoch': epoch,\n",
    "        'model_state_dict': model.state_dict(),\n",
    "        'optimizer_state_dict': optimizer.state_dict(),\n",
    "        'val_loss': val_loss,\n",
    "        'val_acc': val_acc,\n",
    "        'train_loss': train_loss,\n",
    "        'train_acc': train_acc,\n",
    "        'label2idx': dataset.label2idx,\n",
    "        'idx2label': dataset.idx2label\n",
    "    }\n",
    "    \n",
    "    model_path = os.path.join(model_dir, f\"{model_name}_final.pt\")\n",
    "    torch.save(checkpoint, model_path)\n",
    "    \n",
    "    # Plot training curves\n",
    "    plt.figure(figsize=(10, 5))\n",
    "    plt.subplot(1, 2, 1)\n",
    "    plt.plot(history['train_loss'], label='Training Loss')\n",
    "    plt.plot(history['val_loss'], label='Validation Loss')\n",
    "    plt.xlabel('Epoch')\n",
    "    plt.ylabel('Loss')\n",
    "    plt.title('Training and Validation Loss')\n",
    "    plt.legend()\n",
    "    \n",
    "    plt.subplot(1, 2, 2)\n",
    "    plt.plot(history['train_acc'], label='Training Accuracy')\n",
    "    plt.plot(history['val_acc'], label='Validation Accuracy')\n",
    "    plt.xlabel('Epoch')\n",
    "    plt.ylabel('Accuracy (%)')\n",
    "    plt.title('Training and Validation Accuracy')\n",
    "    plt.legend()\n",
    "    \n",
    "    plt.tight_layout()\n",
    "    plt.savefig(os.path.join(graph_dir, f\"{model_name}_training_curves.png\"))\n",
    "    \n",
    "    # Evaluate on test set\n",
    "    evaluate_model(model, test_loader, criterion, device, dataset.idx2label, model_name, graph_dir)\n",
    "    \n",
    "    print(\"Training complete.\")\n",
    "    return model, history\n"
   ]
  },
  {
   "cell_type": "code",
   "execution_count": 6,
   "metadata": {},
   "outputs": [
    {
     "name": "stdout",
     "output_type": "stream",
     "text": [
      "Found 1260 samples with 7 classes\n",
      "Label mapping: {'bye': 0, 'hello': 1, 'namaste': 2, 'practice': 3, 'sorry': 4, 'thankyou': 5, 'welcome': 6}\n"
     ]
    },
    {
     "name": "stderr",
     "output_type": "stream",
     "text": [
      "c:\\Users\\beana\\OneDrive - 123\\Desktop\\Final-Year-Project\\lstm-pyt\\.venv\\Lib\\site-packages\\torch\\optim\\lr_scheduler.py:62: UserWarning: The verbose parameter is deprecated. Please use get_last_lr() to access the learning rate.\n",
      "  warnings.warn(\n"
     ]
    },
    {
     "name": "stdout",
     "output_type": "stream",
     "text": [
      "Training on cuda with 882 training, 189 validation, 189 test samples\n"
     ]
    },
    {
     "name": "stderr",
     "output_type": "stream",
     "text": [
      "Epoch 1/100 [Train]: 100%|██████████| 28/28 [00:01<00:00, 22.27it/s, loss=0.741, acc=0.46] \n",
      "Epoch 1/100 [Val]: 100%|██████████| 6/6 [00:00<00:00, 102.88it/s]\n"
     ]
    },
    {
     "name": "stdout",
     "output_type": "stream",
     "text": [
      "Epoch [1/100] - Train Loss: 1.3231, Train Acc: 46.03% | Val Loss: 0.8520, Val Acc: 67.20% | LR: 0.001000\n",
      "Model improved. Saved checkpoint to ..\\models\\ISL_holistic_best.pt\n"
     ]
    },
    {
     "name": "stderr",
     "output_type": "stream",
     "text": [
      "Epoch 2/100 [Train]: 100%|██████████| 28/28 [00:00<00:00, 84.02it/s, loss=0.352, acc=0.799]\n",
      "Epoch 2/100 [Val]: 100%|██████████| 6/6 [00:00<00:00, 116.46it/s]\n"
     ]
    },
    {
     "name": "stdout",
     "output_type": "stream",
     "text": [
      "Epoch [2/100] - Train Loss: 0.6174, Train Acc: 79.93% | Val Loss: 0.3517, Val Acc: 88.89% | LR: 0.001000\n",
      "Model improved. Saved checkpoint to ..\\models\\ISL_holistic_best.pt\n"
     ]
    },
    {
     "name": "stderr",
     "output_type": "stream",
     "text": [
      "Epoch 3/100 [Train]: 100%|██████████| 28/28 [00:00<00:00, 78.72it/s, loss=0.306, acc=0.932]\n",
      "Epoch 3/100 [Val]: 100%|██████████| 6/6 [00:00<00:00, 103.00it/s]\n"
     ]
    },
    {
     "name": "stdout",
     "output_type": "stream",
     "text": [
      "Epoch [3/100] - Train Loss: 0.2928, Train Acc: 93.20% | Val Loss: 0.1630, Val Acc: 94.71% | LR: 0.001000\n",
      "Model improved. Saved checkpoint to ..\\models\\ISL_holistic_best.pt\n"
     ]
    },
    {
     "name": "stderr",
     "output_type": "stream",
     "text": [
      "Epoch 4/100 [Train]: 100%|██████████| 28/28 [00:00<00:00, 71.97it/s, loss=0.368, acc=0.932] \n",
      "Epoch 4/100 [Val]: 100%|██████████| 6/6 [00:00<00:00, 107.14it/s]\n"
     ]
    },
    {
     "name": "stdout",
     "output_type": "stream",
     "text": [
      "Epoch [4/100] - Train Loss: 0.2773, Train Acc: 93.20% | Val Loss: 0.0663, Val Acc: 98.41% | LR: 0.001000\n",
      "Model improved. Saved checkpoint to ..\\models\\ISL_holistic_best.pt\n"
     ]
    },
    {
     "name": "stderr",
     "output_type": "stream",
     "text": [
      "Epoch 5/100 [Train]: 100%|██████████| 28/28 [00:00<00:00, 78.66it/s, loss=0.0847, acc=0.972]\n",
      "Epoch 5/100 [Val]: 100%|██████████| 6/6 [00:00<00:00, 108.06it/s]\n"
     ]
    },
    {
     "name": "stdout",
     "output_type": "stream",
     "text": [
      "Epoch [5/100] - Train Loss: 0.1408, Train Acc: 97.17% | Val Loss: 0.0861, Val Acc: 97.88% | LR: 0.001000\n"
     ]
    },
    {
     "name": "stderr",
     "output_type": "stream",
     "text": [
      "Epoch 6/100 [Train]: 100%|██████████| 28/28 [00:00<00:00, 74.90it/s, loss=0.338, acc=0.98]  \n",
      "Epoch 6/100 [Val]: 100%|██████████| 6/6 [00:00<00:00, 106.20it/s]\n"
     ]
    },
    {
     "name": "stdout",
     "output_type": "stream",
     "text": [
      "Epoch [6/100] - Train Loss: 0.0926, Train Acc: 97.96% | Val Loss: 0.0987, Val Acc: 97.88% | LR: 0.001000\n"
     ]
    },
    {
     "name": "stderr",
     "output_type": "stream",
     "text": [
      "Epoch 7/100 [Train]: 100%|██████████| 28/28 [00:00<00:00, 49.42it/s, loss=0.0167, acc=0.965]\n",
      "Epoch 7/100 [Val]: 100%|██████████| 6/6 [00:00<00:00, 113.94it/s]\n"
     ]
    },
    {
     "name": "stdout",
     "output_type": "stream",
     "text": [
      "Epoch [7/100] - Train Loss: 0.1461, Train Acc: 96.49% | Val Loss: 0.1643, Val Acc: 94.18% | LR: 0.001000\n"
     ]
    },
    {
     "name": "stderr",
     "output_type": "stream",
     "text": [
      "Epoch 8/100 [Train]: 100%|██████████| 28/28 [00:00<00:00, 45.69it/s, loss=0.0212, acc=0.981]\n",
      "Epoch 8/100 [Val]: 100%|██████████| 6/6 [00:00<00:00, 77.59it/s]\n"
     ]
    },
    {
     "name": "stdout",
     "output_type": "stream",
     "text": [
      "Epoch [8/100] - Train Loss: 0.1059, Train Acc: 98.07% | Val Loss: 0.0402, Val Acc: 98.41% | LR: 0.001000\n",
      "Model improved. Saved checkpoint to ..\\models\\ISL_holistic_best.pt\n"
     ]
    },
    {
     "name": "stderr",
     "output_type": "stream",
     "text": [
      "Epoch 9/100 [Train]: 100%|██████████| 28/28 [00:00<00:00, 35.07it/s, loss=0.0146, acc=0.98] \n",
      "Epoch 9/100 [Val]: 100%|██████████| 6/6 [00:00<00:00, 89.53it/s]\n"
     ]
    },
    {
     "name": "stdout",
     "output_type": "stream",
     "text": [
      "Epoch [9/100] - Train Loss: 0.1014, Train Acc: 97.96% | Val Loss: 0.0046, Val Acc: 100.00% | LR: 0.001000\n",
      "Model improved. Saved checkpoint to ..\\models\\ISL_holistic_best.pt\n"
     ]
    },
    {
     "name": "stderr",
     "output_type": "stream",
     "text": [
      "Epoch 10/100 [Train]: 100%|██████████| 28/28 [00:00<00:00, 48.40it/s, loss=0.305, acc=0.978]  \n",
      "Epoch 10/100 [Val]: 100%|██████████| 6/6 [00:00<00:00, 104.84it/s]\n"
     ]
    },
    {
     "name": "stdout",
     "output_type": "stream",
     "text": [
      "Epoch [10/100] - Train Loss: 0.1026, Train Acc: 97.85% | Val Loss: 0.1417, Val Acc: 95.77% | LR: 0.001000\n"
     ]
    },
    {
     "name": "stderr",
     "output_type": "stream",
     "text": [
      "Epoch 11/100 [Train]: 100%|██████████| 28/28 [00:00<00:00, 71.98it/s, loss=0.0105, acc=0.978] \n",
      "Epoch 11/100 [Val]: 100%|██████████| 6/6 [00:00<00:00, 45.36it/s]\n"
     ]
    },
    {
     "name": "stdout",
     "output_type": "stream",
     "text": [
      "Epoch [11/100] - Train Loss: 0.1095, Train Acc: 97.85% | Val Loss: 0.2707, Val Acc: 94.18% | LR: 0.001000\n"
     ]
    },
    {
     "name": "stderr",
     "output_type": "stream",
     "text": [
      "Epoch 12/100 [Train]: 100%|██████████| 28/28 [00:00<00:00, 33.67it/s, loss=0.0947, acc=0.989] \n",
      "Epoch 12/100 [Val]: 100%|██████████| 6/6 [00:00<00:00, 23.69it/s]\n"
     ]
    },
    {
     "name": "stdout",
     "output_type": "stream",
     "text": [
      "Epoch [12/100] - Train Loss: 0.0452, Train Acc: 98.87% | Val Loss: 0.2289, Val Acc: 95.77% | LR: 0.001000\n"
     ]
    },
    {
     "name": "stderr",
     "output_type": "stream",
     "text": [
      "Epoch 13/100 [Train]: 100%|██████████| 28/28 [00:01<00:00, 27.69it/s, loss=0.531, acc=0.977]  \n",
      "Epoch 13/100 [Val]: 100%|██████████| 6/6 [00:00<00:00, 56.73it/s]\n"
     ]
    },
    {
     "name": "stdout",
     "output_type": "stream",
     "text": [
      "Epoch [13/100] - Train Loss: 0.1016, Train Acc: 97.73% | Val Loss: 0.2879, Val Acc: 94.71% | LR: 0.001000\n"
     ]
    },
    {
     "name": "stderr",
     "output_type": "stream",
     "text": [
      "Epoch 14/100 [Train]: 100%|██████████| 28/28 [00:00<00:00, 35.21it/s, loss=0.00401, acc=0.989]\n",
      "Epoch 14/100 [Val]: 100%|██████████| 6/6 [00:00<00:00, 27.33it/s]\n"
     ]
    },
    {
     "name": "stdout",
     "output_type": "stream",
     "text": [
      "Epoch [14/100] - Train Loss: 0.0716, Train Acc: 98.87% | Val Loss: 0.0017, Val Acc: 100.00% | LR: 0.001000\n",
      "Model improved. Saved checkpoint to ..\\models\\ISL_holistic_best.pt\n"
     ]
    },
    {
     "name": "stderr",
     "output_type": "stream",
     "text": [
      "Epoch 15/100 [Train]: 100%|██████████| 28/28 [00:01<00:00, 27.64it/s, loss=0.0104, acc=0.992] \n",
      "Epoch 15/100 [Val]: 100%|██████████| 6/6 [00:00<00:00, 76.92it/s]\n"
     ]
    },
    {
     "name": "stdout",
     "output_type": "stream",
     "text": [
      "Epoch [15/100] - Train Loss: 0.0363, Train Acc: 99.21% | Val Loss: 0.0009, Val Acc: 100.00% | LR: 0.001000\n",
      "Model improved. Saved checkpoint to ..\\models\\ISL_holistic_best.pt\n"
     ]
    },
    {
     "name": "stderr",
     "output_type": "stream",
     "text": [
      "Epoch 16/100 [Train]: 100%|██████████| 28/28 [00:00<00:00, 33.00it/s, loss=0.00166, acc=0.998]\n",
      "Epoch 16/100 [Val]: 100%|██████████| 6/6 [00:00<00:00, 46.20it/s]\n"
     ]
    },
    {
     "name": "stdout",
     "output_type": "stream",
     "text": [
      "Epoch [16/100] - Train Loss: 0.0164, Train Acc: 99.77% | Val Loss: 0.0030, Val Acc: 100.00% | LR: 0.001000\n"
     ]
    },
    {
     "name": "stderr",
     "output_type": "stream",
     "text": [
      "Epoch 17/100 [Train]: 100%|██████████| 28/28 [00:00<00:00, 30.02it/s, loss=0.00437, acc=0.992]\n",
      "Epoch 17/100 [Val]: 100%|██████████| 6/6 [00:00<00:00, 75.70it/s]\n"
     ]
    },
    {
     "name": "stdout",
     "output_type": "stream",
     "text": [
      "Epoch [17/100] - Train Loss: 0.0327, Train Acc: 99.21% | Val Loss: 0.0017, Val Acc: 100.00% | LR: 0.001000\n"
     ]
    },
    {
     "name": "stderr",
     "output_type": "stream",
     "text": [
      "Epoch 18/100 [Train]: 100%|██████████| 28/28 [00:00<00:00, 36.96it/s, loss=0.125, acc=0.992]  \n",
      "Epoch 18/100 [Val]: 100%|██████████| 6/6 [00:00<00:00, 77.13it/s]\n"
     ]
    },
    {
     "name": "stdout",
     "output_type": "stream",
     "text": [
      "Epoch [18/100] - Train Loss: 0.0226, Train Acc: 99.21% | Val Loss: 0.0007, Val Acc: 100.00% | LR: 0.001000\n",
      "Model improved. Saved checkpoint to ..\\models\\ISL_holistic_best.pt\n"
     ]
    },
    {
     "name": "stderr",
     "output_type": "stream",
     "text": [
      "Epoch 19/100 [Train]: 100%|██████████| 28/28 [00:00<00:00, 50.67it/s, loss=0.00105, acc=0.994]\n",
      "Epoch 19/100 [Val]: 100%|██████████| 6/6 [00:00<00:00, 75.35it/s]\n"
     ]
    },
    {
     "name": "stdout",
     "output_type": "stream",
     "text": [
      "Epoch [19/100] - Train Loss: 0.0357, Train Acc: 99.43% | Val Loss: 0.0003, Val Acc: 100.00% | LR: 0.001000\n",
      "Model improved. Saved checkpoint to ..\\models\\ISL_holistic_best.pt\n"
     ]
    },
    {
     "name": "stderr",
     "output_type": "stream",
     "text": [
      "Epoch 20/100 [Train]: 100%|██████████| 28/28 [00:00<00:00, 60.59it/s, loss=0.00226, acc=0.993]\n",
      "Epoch 20/100 [Val]: 100%|██████████| 6/6 [00:00<00:00, 62.56it/s]\n"
     ]
    },
    {
     "name": "stdout",
     "output_type": "stream",
     "text": [
      "Epoch [20/100] - Train Loss: 0.0367, Train Acc: 99.32% | Val Loss: 0.0004, Val Acc: 100.00% | LR: 0.001000\n"
     ]
    },
    {
     "name": "stderr",
     "output_type": "stream",
     "text": [
      "Epoch 21/100 [Train]: 100%|██████████| 28/28 [00:00<00:00, 42.43it/s, loss=0.0021, acc=0.995] \n",
      "Epoch 21/100 [Val]: 100%|██████████| 6/6 [00:00<00:00, 62.64it/s]\n"
     ]
    },
    {
     "name": "stdout",
     "output_type": "stream",
     "text": [
      "Epoch [21/100] - Train Loss: 0.0318, Train Acc: 99.55% | Val Loss: 0.0003, Val Acc: 100.00% | LR: 0.001000\n",
      "Model improved. Saved checkpoint to ..\\models\\ISL_holistic_best.pt\n"
     ]
    },
    {
     "name": "stderr",
     "output_type": "stream",
     "text": [
      "Epoch 22/100 [Train]: 100%|██████████| 28/28 [00:00<00:00, 33.00it/s, loss=0.000715, acc=0.995]\n",
      "Epoch 22/100 [Val]: 100%|██████████| 6/6 [00:00<00:00, 54.89it/s]\n"
     ]
    },
    {
     "name": "stdout",
     "output_type": "stream",
     "text": [
      "Epoch [22/100] - Train Loss: 0.0152, Train Acc: 99.55% | Val Loss: 0.0280, Val Acc: 99.47% | LR: 0.001000\n"
     ]
    },
    {
     "name": "stderr",
     "output_type": "stream",
     "text": [
      "Epoch 23/100 [Train]: 100%|██████████| 28/28 [00:01<00:00, 24.63it/s, loss=0.00697, acc=0.983] \n",
      "Epoch 23/100 [Val]: 100%|██████████| 6/6 [00:00<00:00, 88.86it/s]\n"
     ]
    },
    {
     "name": "stdout",
     "output_type": "stream",
     "text": [
      "Epoch [23/100] - Train Loss: 0.0923, Train Acc: 98.30% | Val Loss: 0.0659, Val Acc: 97.35% | LR: 0.001000\n"
     ]
    },
    {
     "name": "stderr",
     "output_type": "stream",
     "text": [
      "Epoch 24/100 [Train]: 100%|██████████| 28/28 [00:00<00:00, 31.98it/s, loss=0.00142, acc=0.982]\n",
      "Epoch 24/100 [Val]: 100%|██████████| 6/6 [00:00<00:00, 83.51it/s]\n"
     ]
    },
    {
     "name": "stdout",
     "output_type": "stream",
     "text": [
      "Epoch [24/100] - Train Loss: 0.0898, Train Acc: 98.19% | Val Loss: 0.0009, Val Acc: 100.00% | LR: 0.001000\n"
     ]
    },
    {
     "name": "stderr",
     "output_type": "stream",
     "text": [
      "Epoch 25/100 [Train]: 100%|██████████| 28/28 [00:00<00:00, 34.64it/s, loss=0.0246, acc=0.993] \n",
      "Epoch 25/100 [Val]: 100%|██████████| 6/6 [00:00<00:00, 100.72it/s]\n"
     ]
    },
    {
     "name": "stdout",
     "output_type": "stream",
     "text": [
      "Epoch [25/100] - Train Loss: 0.0439, Train Acc: 99.32% | Val Loss: 0.0922, Val Acc: 97.35% | LR: 0.001000\n"
     ]
    },
    {
     "name": "stderr",
     "output_type": "stream",
     "text": [
      "Epoch 26/100 [Train]: 100%|██████████| 28/28 [00:00<00:00, 39.12it/s, loss=0.00263, acc=0.968]\n",
      "Epoch 26/100 [Val]: 100%|██████████| 6/6 [00:00<00:00, 66.92it/s]\n"
     ]
    },
    {
     "name": "stdout",
     "output_type": "stream",
     "text": [
      "Epoch [26/100] - Train Loss: 0.1785, Train Acc: 96.83% | Val Loss: 0.0588, Val Acc: 97.88% | LR: 0.001000\n"
     ]
    },
    {
     "name": "stderr",
     "output_type": "stream",
     "text": [
      "Epoch 27/100 [Train]: 100%|██████████| 28/28 [00:00<00:00, 34.74it/s, loss=0.0026, acc=0.96]  \n",
      "Epoch 27/100 [Val]: 100%|██████████| 6/6 [00:00<00:00, 52.24it/s]\n"
     ]
    },
    {
     "name": "stdout",
     "output_type": "stream",
     "text": [
      "Epoch [27/100] - Train Loss: 0.1979, Train Acc: 96.03% | Val Loss: 0.1584, Val Acc: 97.35% | LR: 0.000500\n"
     ]
    },
    {
     "name": "stderr",
     "output_type": "stream",
     "text": [
      "Epoch 28/100 [Train]: 100%|██████████| 28/28 [00:00<00:00, 28.04it/s, loss=0.00674, acc=0.992]\n",
      "Epoch 28/100 [Val]: 100%|██████████| 6/6 [00:00<00:00, 69.72it/s]\n"
     ]
    },
    {
     "name": "stdout",
     "output_type": "stream",
     "text": [
      "Epoch [28/100] - Train Loss: 0.0498, Train Acc: 99.21% | Val Loss: 0.0006, Val Acc: 100.00% | LR: 0.000500\n"
     ]
    },
    {
     "name": "stderr",
     "output_type": "stream",
     "text": [
      "Epoch 29/100 [Train]: 100%|██████████| 28/28 [00:01<00:00, 21.60it/s, loss=0.00476, acc=1] \n",
      "Epoch 29/100 [Val]: 100%|██████████| 6/6 [00:00<00:00, 48.19it/s]\n"
     ]
    },
    {
     "name": "stdout",
     "output_type": "stream",
     "text": [
      "Epoch [29/100] - Train Loss: 0.0034, Train Acc: 100.00% | Val Loss: 0.0003, Val Acc: 100.00% | LR: 0.000500\n"
     ]
    },
    {
     "name": "stderr",
     "output_type": "stream",
     "text": [
      "Epoch 30/100 [Train]: 100%|██████████| 28/28 [00:00<00:00, 30.63it/s, loss=0.00341, acc=1] \n",
      "Epoch 30/100 [Val]: 100%|██████████| 6/6 [00:00<00:00, 64.68it/s]\n"
     ]
    },
    {
     "name": "stdout",
     "output_type": "stream",
     "text": [
      "Epoch [30/100] - Train Loss: 0.0028, Train Acc: 100.00% | Val Loss: 0.0002, Val Acc: 100.00% | LR: 0.000500\n",
      "Model improved. Saved checkpoint to ..\\models\\ISL_holistic_best.pt\n"
     ]
    },
    {
     "name": "stderr",
     "output_type": "stream",
     "text": [
      "Epoch 31/100 [Train]: 100%|██████████| 28/28 [00:01<00:00, 25.64it/s, loss=0.00138, acc=1] \n",
      "Epoch 31/100 [Val]: 100%|██████████| 6/6 [00:00<00:00, 35.23it/s]\n"
     ]
    },
    {
     "name": "stdout",
     "output_type": "stream",
     "text": [
      "Epoch [31/100] - Train Loss: 0.0019, Train Acc: 100.00% | Val Loss: 0.0002, Val Acc: 100.00% | LR: 0.000500\n",
      "Model improved. Saved checkpoint to ..\\models\\ISL_holistic_best.pt\n"
     ]
    },
    {
     "name": "stderr",
     "output_type": "stream",
     "text": [
      "Epoch 32/100 [Train]: 100%|██████████| 28/28 [00:00<00:00, 29.94it/s, loss=0.00181, acc=1] \n",
      "Epoch 32/100 [Val]: 100%|██████████| 6/6 [00:00<00:00, 73.80it/s]\n"
     ]
    },
    {
     "name": "stdout",
     "output_type": "stream",
     "text": [
      "Epoch [32/100] - Train Loss: 0.0031, Train Acc: 100.00% | Val Loss: 0.0002, Val Acc: 100.00% | LR: 0.000500\n",
      "Model improved. Saved checkpoint to ..\\models\\ISL_holistic_best.pt\n"
     ]
    },
    {
     "name": "stderr",
     "output_type": "stream",
     "text": [
      "Epoch 33/100 [Train]: 100%|██████████| 28/28 [00:00<00:00, 28.86it/s, loss=0.000427, acc=1]\n",
      "Epoch 33/100 [Val]: 100%|██████████| 6/6 [00:00<00:00, 64.91it/s]\n"
     ]
    },
    {
     "name": "stdout",
     "output_type": "stream",
     "text": [
      "Epoch [33/100] - Train Loss: 0.0019, Train Acc: 100.00% | Val Loss: 0.0001, Val Acc: 100.00% | LR: 0.000500\n",
      "Model improved. Saved checkpoint to ..\\models\\ISL_holistic_best.pt\n"
     ]
    },
    {
     "name": "stderr",
     "output_type": "stream",
     "text": [
      "Epoch 34/100 [Train]: 100%|██████████| 28/28 [00:00<00:00, 61.62it/s, loss=0.00322, acc=1] \n",
      "Epoch 34/100 [Val]: 100%|██████████| 6/6 [00:00<00:00, 114.07it/s]\n"
     ]
    },
    {
     "name": "stdout",
     "output_type": "stream",
     "text": [
      "Epoch [34/100] - Train Loss: 0.0016, Train Acc: 100.00% | Val Loss: 0.0001, Val Acc: 100.00% | LR: 0.000500\n",
      "Model improved. Saved checkpoint to ..\\models\\ISL_holistic_best.pt\n"
     ]
    },
    {
     "name": "stderr",
     "output_type": "stream",
     "text": [
      "Epoch 35/100 [Train]: 100%|██████████| 28/28 [00:00<00:00, 72.85it/s, loss=0.0012, acc=1]  \n",
      "Epoch 35/100 [Val]: 100%|██████████| 6/6 [00:00<00:00, 112.05it/s]\n"
     ]
    },
    {
     "name": "stdout",
     "output_type": "stream",
     "text": [
      "Epoch [35/100] - Train Loss: 0.0012, Train Acc: 100.00% | Val Loss: 0.0001, Val Acc: 100.00% | LR: 0.000500\n",
      "Model improved. Saved checkpoint to ..\\models\\ISL_holistic_best.pt\n"
     ]
    },
    {
     "name": "stderr",
     "output_type": "stream",
     "text": [
      "Epoch 36/100 [Train]: 100%|██████████| 28/28 [00:00<00:00, 75.99it/s, loss=0.000357, acc=1]\n",
      "Epoch 36/100 [Val]: 100%|██████████| 6/6 [00:00<00:00, 111.07it/s]\n"
     ]
    },
    {
     "name": "stdout",
     "output_type": "stream",
     "text": [
      "Epoch [36/100] - Train Loss: 0.0013, Train Acc: 100.00% | Val Loss: 0.0001, Val Acc: 100.00% | LR: 0.000500\n",
      "Model improved. Saved checkpoint to ..\\models\\ISL_holistic_best.pt\n"
     ]
    },
    {
     "name": "stderr",
     "output_type": "stream",
     "text": [
      "Epoch 37/100 [Train]: 100%|██████████| 28/28 [00:00<00:00, 70.55it/s, loss=0.00127, acc=1] \n",
      "Epoch 37/100 [Val]: 100%|██████████| 6/6 [00:00<00:00, 96.38it/s]\n"
     ]
    },
    {
     "name": "stdout",
     "output_type": "stream",
     "text": [
      "Epoch [37/100] - Train Loss: 0.0016, Train Acc: 100.00% | Val Loss: 0.0001, Val Acc: 100.00% | LR: 0.000500\n",
      "Model improved. Saved checkpoint to ..\\models\\ISL_holistic_best.pt\n"
     ]
    },
    {
     "name": "stderr",
     "output_type": "stream",
     "text": [
      "Epoch 38/100 [Train]: 100%|██████████| 28/28 [00:00<00:00, 61.82it/s, loss=0.00167, acc=1] \n",
      "Epoch 38/100 [Val]: 100%|██████████| 6/6 [00:00<00:00, 22.92it/s]\n"
     ]
    },
    {
     "name": "stdout",
     "output_type": "stream",
     "text": [
      "Epoch [38/100] - Train Loss: 0.0019, Train Acc: 100.00% | Val Loss: 0.0001, Val Acc: 100.00% | LR: 0.000500\n",
      "Model improved. Saved checkpoint to ..\\models\\ISL_holistic_best.pt\n"
     ]
    },
    {
     "name": "stderr",
     "output_type": "stream",
     "text": [
      "Epoch 39/100 [Train]: 100%|██████████| 28/28 [00:01<00:00, 25.62it/s, loss=0.00228, acc=1] \n",
      "Epoch 39/100 [Val]: 100%|██████████| 6/6 [00:00<00:00, 40.01it/s]\n"
     ]
    },
    {
     "name": "stdout",
     "output_type": "stream",
     "text": [
      "Epoch [39/100] - Train Loss: 0.0011, Train Acc: 100.00% | Val Loss: 0.0001, Val Acc: 100.00% | LR: 0.000500\n",
      "Model improved. Saved checkpoint to ..\\models\\ISL_holistic_best.pt\n"
     ]
    },
    {
     "name": "stderr",
     "output_type": "stream",
     "text": [
      "Epoch 40/100 [Train]: 100%|██████████| 28/28 [00:00<00:00, 43.75it/s, loss=0.000241, acc=1]\n",
      "Epoch 40/100 [Val]: 100%|██████████| 6/6 [00:00<00:00, 89.87it/s]\n"
     ]
    },
    {
     "name": "stdout",
     "output_type": "stream",
     "text": [
      "Epoch [40/100] - Train Loss: 0.0010, Train Acc: 100.00% | Val Loss: 0.0001, Val Acc: 100.00% | LR: 0.000500\n",
      "Model improved. Saved checkpoint to ..\\models\\ISL_holistic_best.pt\n"
     ]
    },
    {
     "name": "stderr",
     "output_type": "stream",
     "text": [
      "Epoch 41/100 [Train]: 100%|██████████| 28/28 [00:00<00:00, 61.69it/s, loss=0.000311, acc=1]\n",
      "Epoch 41/100 [Val]: 100%|██████████| 6/6 [00:00<00:00, 116.15it/s]\n"
     ]
    },
    {
     "name": "stdout",
     "output_type": "stream",
     "text": [
      "Epoch [41/100] - Train Loss: 0.0009, Train Acc: 100.00% | Val Loss: 0.0001, Val Acc: 100.00% | LR: 0.000500\n",
      "Model improved. Saved checkpoint to ..\\models\\ISL_holistic_best.pt\n"
     ]
    },
    {
     "name": "stderr",
     "output_type": "stream",
     "text": [
      "Epoch 42/100 [Train]: 100%|██████████| 28/28 [00:00<00:00, 63.38it/s, loss=0.000349, acc=1]\n",
      "Epoch 42/100 [Val]: 100%|██████████| 6/6 [00:00<00:00, 93.36it/s]\n"
     ]
    },
    {
     "name": "stdout",
     "output_type": "stream",
     "text": [
      "Epoch [42/100] - Train Loss: 0.0011, Train Acc: 100.00% | Val Loss: 0.0001, Val Acc: 100.00% | LR: 0.000500\n",
      "Model improved. Saved checkpoint to ..\\models\\ISL_holistic_best.pt\n"
     ]
    },
    {
     "name": "stderr",
     "output_type": "stream",
     "text": [
      "Epoch 43/100 [Train]: 100%|██████████| 28/28 [00:00<00:00, 72.74it/s, loss=0.000241, acc=1]\n",
      "Epoch 43/100 [Val]: 100%|██████████| 6/6 [00:00<00:00, 103.10it/s]\n"
     ]
    },
    {
     "name": "stdout",
     "output_type": "stream",
     "text": [
      "Epoch [43/100] - Train Loss: 0.0007, Train Acc: 100.00% | Val Loss: 0.0001, Val Acc: 100.00% | LR: 0.000500\n",
      "Model improved. Saved checkpoint to ..\\models\\ISL_holistic_best.pt\n"
     ]
    },
    {
     "name": "stderr",
     "output_type": "stream",
     "text": [
      "Epoch 44/100 [Train]: 100%|██████████| 28/28 [00:00<00:00, 44.70it/s, loss=0.00115, acc=1] \n",
      "Epoch 44/100 [Val]: 100%|██████████| 6/6 [00:00<00:00, 31.50it/s]\n"
     ]
    },
    {
     "name": "stdout",
     "output_type": "stream",
     "text": [
      "Epoch [44/100] - Train Loss: 0.0008, Train Acc: 100.00% | Val Loss: 0.0000, Val Acc: 100.00% | LR: 0.000500\n",
      "Model improved. Saved checkpoint to ..\\models\\ISL_holistic_best.pt\n"
     ]
    },
    {
     "name": "stderr",
     "output_type": "stream",
     "text": [
      "Epoch 45/100 [Train]: 100%|██████████| 28/28 [00:00<00:00, 38.39it/s, loss=0.00042, acc=1] \n",
      "Epoch 45/100 [Val]: 100%|██████████| 6/6 [00:00<00:00, 97.02it/s]\n"
     ]
    },
    {
     "name": "stdout",
     "output_type": "stream",
     "text": [
      "Epoch [45/100] - Train Loss: 0.0010, Train Acc: 100.00% | Val Loss: 0.0000, Val Acc: 100.00% | LR: 0.000500\n",
      "Model improved. Saved checkpoint to ..\\models\\ISL_holistic_best.pt\n"
     ]
    },
    {
     "name": "stderr",
     "output_type": "stream",
     "text": [
      "Epoch 46/100 [Train]: 100%|██████████| 28/28 [00:00<00:00, 38.10it/s, loss=0.000175, acc=1]\n",
      "Epoch 46/100 [Val]: 100%|██████████| 6/6 [00:00<00:00, 20.79it/s]\n"
     ]
    },
    {
     "name": "stdout",
     "output_type": "stream",
     "text": [
      "Epoch [46/100] - Train Loss: 0.0007, Train Acc: 100.00% | Val Loss: 0.0000, Val Acc: 100.00% | LR: 0.000500\n",
      "Model improved. Saved checkpoint to ..\\models\\ISL_holistic_best.pt\n"
     ]
    },
    {
     "name": "stderr",
     "output_type": "stream",
     "text": [
      "Epoch 47/100 [Train]: 100%|██████████| 28/28 [00:01<00:00, 26.68it/s, loss=0.000608, acc=1]\n",
      "Epoch 47/100 [Val]: 100%|██████████| 6/6 [00:00<00:00, 71.86it/s]\n"
     ]
    },
    {
     "name": "stdout",
     "output_type": "stream",
     "text": [
      "Epoch [47/100] - Train Loss: 0.0010, Train Acc: 100.00% | Val Loss: 0.0000, Val Acc: 100.00% | LR: 0.000500\n",
      "Model improved. Saved checkpoint to ..\\models\\ISL_holistic_best.pt\n"
     ]
    },
    {
     "name": "stderr",
     "output_type": "stream",
     "text": [
      "Epoch 48/100 [Train]: 100%|██████████| 28/28 [00:00<00:00, 36.75it/s, loss=0.000908, acc=1]\n",
      "Epoch 48/100 [Val]: 100%|██████████| 6/6 [00:00<00:00, 19.66it/s]\n"
     ]
    },
    {
     "name": "stdout",
     "output_type": "stream",
     "text": [
      "Epoch [48/100] - Train Loss: 0.0010, Train Acc: 100.00% | Val Loss: 0.0000, Val Acc: 100.00% | LR: 0.000500\n",
      "Model improved. Saved checkpoint to ..\\models\\ISL_holistic_best.pt\n"
     ]
    },
    {
     "name": "stderr",
     "output_type": "stream",
     "text": [
      "Epoch 49/100 [Train]: 100%|██████████| 28/28 [00:01<00:00, 27.86it/s, loss=0.00102, acc=1] \n",
      "Epoch 49/100 [Val]: 100%|██████████| 6/6 [00:00<00:00, 43.87it/s]\n"
     ]
    },
    {
     "name": "stdout",
     "output_type": "stream",
     "text": [
      "Epoch [49/100] - Train Loss: 0.0010, Train Acc: 100.00% | Val Loss: 0.0000, Val Acc: 100.00% | LR: 0.000500\n",
      "Model improved. Saved checkpoint to ..\\models\\ISL_holistic_best.pt\n"
     ]
    },
    {
     "name": "stderr",
     "output_type": "stream",
     "text": [
      "Epoch 50/100 [Train]: 100%|██████████| 28/28 [00:01<00:00, 27.73it/s, loss=0.000106, acc=1]\n",
      "Epoch 50/100 [Val]: 100%|██████████| 6/6 [00:00<00:00, 23.26it/s]\n"
     ]
    },
    {
     "name": "stdout",
     "output_type": "stream",
     "text": [
      "Epoch [50/100] - Train Loss: 0.0007, Train Acc: 100.00% | Val Loss: 0.0000, Val Acc: 100.00% | LR: 0.000500\n",
      "Model improved. Saved checkpoint to ..\\models\\ISL_holistic_best.pt\n"
     ]
    },
    {
     "name": "stderr",
     "output_type": "stream",
     "text": [
      "Epoch 51/100 [Train]: 100%|██████████| 28/28 [00:01<00:00, 23.56it/s, loss=0.000859, acc=1]\n",
      "Epoch 51/100 [Val]: 100%|██████████| 6/6 [00:00<00:00, 31.52it/s]\n"
     ]
    },
    {
     "name": "stdout",
     "output_type": "stream",
     "text": [
      "Epoch [51/100] - Train Loss: 0.0008, Train Acc: 100.00% | Val Loss: 0.0000, Val Acc: 100.00% | LR: 0.000500\n",
      "Model improved. Saved checkpoint to ..\\models\\ISL_holistic_best.pt\n"
     ]
    },
    {
     "name": "stderr",
     "output_type": "stream",
     "text": [
      "Epoch 52/100 [Train]: 100%|██████████| 28/28 [00:01<00:00, 20.51it/s, loss=0.000125, acc=1]\n",
      "Epoch 52/100 [Val]: 100%|██████████| 6/6 [00:00<00:00, 24.78it/s]\n"
     ]
    },
    {
     "name": "stdout",
     "output_type": "stream",
     "text": [
      "Epoch [52/100] - Train Loss: 0.0008, Train Acc: 100.00% | Val Loss: 0.0000, Val Acc: 100.00% | LR: 0.000500\n",
      "Model improved. Saved checkpoint to ..\\models\\ISL_holistic_best.pt\n"
     ]
    },
    {
     "name": "stderr",
     "output_type": "stream",
     "text": [
      "Epoch 53/100 [Train]: 100%|██████████| 28/28 [00:01<00:00, 25.35it/s, loss=0.000398, acc=1]\n",
      "Epoch 53/100 [Val]: 100%|██████████| 6/6 [00:00<00:00, 39.56it/s]\n"
     ]
    },
    {
     "name": "stdout",
     "output_type": "stream",
     "text": [
      "Epoch [53/100] - Train Loss: 0.0007, Train Acc: 100.00% | Val Loss: 0.0000, Val Acc: 100.00% | LR: 0.000500\n",
      "Model improved. Saved checkpoint to ..\\models\\ISL_holistic_best.pt\n"
     ]
    },
    {
     "name": "stderr",
     "output_type": "stream",
     "text": [
      "Epoch 54/100 [Train]: 100%|██████████| 28/28 [00:01<00:00, 21.81it/s, loss=0.000577, acc=1]\n",
      "Epoch 54/100 [Val]: 100%|██████████| 6/6 [00:00<00:00, 36.82it/s]\n"
     ]
    },
    {
     "name": "stdout",
     "output_type": "stream",
     "text": [
      "Epoch [54/100] - Train Loss: 0.0006, Train Acc: 100.00% | Val Loss: 0.0000, Val Acc: 100.00% | LR: 0.000500\n",
      "Model improved. Saved checkpoint to ..\\models\\ISL_holistic_best.pt\n"
     ]
    },
    {
     "name": "stderr",
     "output_type": "stream",
     "text": [
      "Epoch 55/100 [Train]: 100%|██████████| 28/28 [00:01<00:00, 23.49it/s, loss=0.000268, acc=1]\n",
      "Epoch 55/100 [Val]: 100%|██████████| 6/6 [00:00<00:00, 75.86it/s]\n"
     ]
    },
    {
     "name": "stdout",
     "output_type": "stream",
     "text": [
      "Epoch [55/100] - Train Loss: 0.0007, Train Acc: 100.00% | Val Loss: 0.0000, Val Acc: 100.00% | LR: 0.000500\n",
      "Model improved. Saved checkpoint to ..\\models\\ISL_holistic_best.pt\n"
     ]
    },
    {
     "name": "stderr",
     "output_type": "stream",
     "text": [
      "Epoch 56/100 [Train]: 100%|██████████| 28/28 [00:00<00:00, 33.28it/s, loss=0.000237, acc=1]\n",
      "Epoch 56/100 [Val]: 100%|██████████| 6/6 [00:00<00:00, 25.62it/s]\n"
     ]
    },
    {
     "name": "stdout",
     "output_type": "stream",
     "text": [
      "Epoch [56/100] - Train Loss: 0.0008, Train Acc: 100.00% | Val Loss: 0.0000, Val Acc: 100.00% | LR: 0.000500\n",
      "Model improved. Saved checkpoint to ..\\models\\ISL_holistic_best.pt\n"
     ]
    },
    {
     "name": "stderr",
     "output_type": "stream",
     "text": [
      "Epoch 57/100 [Train]: 100%|██████████| 28/28 [00:01<00:00, 24.15it/s, loss=0.000604, acc=1]\n",
      "Epoch 57/100 [Val]: 100%|██████████| 6/6 [00:00<00:00, 33.61it/s]\n"
     ]
    },
    {
     "name": "stdout",
     "output_type": "stream",
     "text": [
      "Epoch [57/100] - Train Loss: 0.0005, Train Acc: 100.00% | Val Loss: 0.0000, Val Acc: 100.00% | LR: 0.000500\n",
      "Model improved. Saved checkpoint to ..\\models\\ISL_holistic_best.pt\n"
     ]
    },
    {
     "name": "stderr",
     "output_type": "stream",
     "text": [
      "Epoch 58/100 [Train]: 100%|██████████| 28/28 [00:00<00:00, 32.99it/s, loss=6.69e-5, acc=1] \n",
      "Epoch 58/100 [Val]: 100%|██████████| 6/6 [00:00<00:00, 88.43it/s]\n"
     ]
    },
    {
     "name": "stdout",
     "output_type": "stream",
     "text": [
      "Epoch [58/100] - Train Loss: 0.0005, Train Acc: 100.00% | Val Loss: 0.0000, Val Acc: 100.00% | LR: 0.000500\n",
      "Model improved. Saved checkpoint to ..\\models\\ISL_holistic_best.pt\n"
     ]
    },
    {
     "name": "stderr",
     "output_type": "stream",
     "text": [
      "Epoch 59/100 [Train]: 100%|██████████| 28/28 [00:01<00:00, 26.44it/s, loss=2.57e-5, acc=1] \n",
      "Epoch 59/100 [Val]: 100%|██████████| 6/6 [00:00<00:00, 69.84it/s]\n"
     ]
    },
    {
     "name": "stdout",
     "output_type": "stream",
     "text": [
      "Epoch [59/100] - Train Loss: 0.0007, Train Acc: 100.00% | Val Loss: 0.0000, Val Acc: 100.00% | LR: 0.000500\n",
      "Model improved. Saved checkpoint to ..\\models\\ISL_holistic_best.pt\n"
     ]
    },
    {
     "name": "stderr",
     "output_type": "stream",
     "text": [
      "Epoch 60/100 [Train]: 100%|██████████| 28/28 [00:00<00:00, 28.37it/s, loss=0.000346, acc=1]\n",
      "Epoch 60/100 [Val]: 100%|██████████| 6/6 [00:00<00:00, 58.22it/s]\n"
     ]
    },
    {
     "name": "stdout",
     "output_type": "stream",
     "text": [
      "Epoch [60/100] - Train Loss: 0.0005, Train Acc: 100.00% | Val Loss: 0.0000, Val Acc: 100.00% | LR: 0.000500\n",
      "Model improved. Saved checkpoint to ..\\models\\ISL_holistic_best.pt\n"
     ]
    },
    {
     "name": "stderr",
     "output_type": "stream",
     "text": [
      "Epoch 61/100 [Train]: 100%|██████████| 28/28 [00:00<00:00, 29.08it/s, loss=0.000142, acc=1]\n",
      "Epoch 61/100 [Val]: 100%|██████████| 6/6 [00:00<00:00, 55.20it/s]\n"
     ]
    },
    {
     "name": "stdout",
     "output_type": "stream",
     "text": [
      "Epoch [61/100] - Train Loss: 0.0006, Train Acc: 100.00% | Val Loss: 0.0000, Val Acc: 100.00% | LR: 0.000500\n",
      "Model improved. Saved checkpoint to ..\\models\\ISL_holistic_best.pt\n"
     ]
    },
    {
     "name": "stderr",
     "output_type": "stream",
     "text": [
      "Epoch 62/100 [Train]: 100%|██████████| 28/28 [00:00<00:00, 30.43it/s, loss=0.000881, acc=1]\n",
      "Epoch 62/100 [Val]: 100%|██████████| 6/6 [00:00<00:00, 48.34it/s]\n"
     ]
    },
    {
     "name": "stdout",
     "output_type": "stream",
     "text": [
      "Epoch [62/100] - Train Loss: 0.0005, Train Acc: 100.00% | Val Loss: 0.0000, Val Acc: 100.00% | LR: 0.000500\n",
      "Model improved. Saved checkpoint to ..\\models\\ISL_holistic_best.pt\n"
     ]
    },
    {
     "name": "stderr",
     "output_type": "stream",
     "text": [
      "Epoch 63/100 [Train]: 100%|██████████| 28/28 [00:00<00:00, 35.43it/s, loss=0.00011, acc=1] \n",
      "Epoch 63/100 [Val]: 100%|██████████| 6/6 [00:00<00:00, 62.01it/s]\n"
     ]
    },
    {
     "name": "stdout",
     "output_type": "stream",
     "text": [
      "Epoch [63/100] - Train Loss: 0.0006, Train Acc: 100.00% | Val Loss: 0.0000, Val Acc: 100.00% | LR: 0.000500\n",
      "Model improved. Saved checkpoint to ..\\models\\ISL_holistic_best.pt\n"
     ]
    },
    {
     "name": "stderr",
     "output_type": "stream",
     "text": [
      "Epoch 64/100 [Train]: 100%|██████████| 28/28 [00:00<00:00, 38.57it/s, loss=0.000274, acc=1]\n",
      "Epoch 64/100 [Val]: 100%|██████████| 6/6 [00:00<00:00, 91.28it/s]\n"
     ]
    },
    {
     "name": "stdout",
     "output_type": "stream",
     "text": [
      "Epoch [64/100] - Train Loss: 0.0005, Train Acc: 100.00% | Val Loss: 0.0000, Val Acc: 100.00% | LR: 0.000500\n",
      "Model improved. Saved checkpoint to ..\\models\\ISL_holistic_best.pt\n"
     ]
    },
    {
     "name": "stderr",
     "output_type": "stream",
     "text": [
      "Epoch 65/100 [Train]: 100%|██████████| 28/28 [00:00<00:00, 36.12it/s, loss=0.000713, acc=1]\n",
      "Epoch 65/100 [Val]: 100%|██████████| 6/6 [00:00<00:00, 106.94it/s]\n"
     ]
    },
    {
     "name": "stdout",
     "output_type": "stream",
     "text": [
      "Epoch [65/100] - Train Loss: 0.0004, Train Acc: 100.00% | Val Loss: 0.0000, Val Acc: 100.00% | LR: 0.000500\n",
      "Model improved. Saved checkpoint to ..\\models\\ISL_holistic_best.pt\n"
     ]
    },
    {
     "name": "stderr",
     "output_type": "stream",
     "text": [
      "Epoch 66/100 [Train]: 100%|██████████| 28/28 [00:00<00:00, 74.62it/s, loss=0.000116, acc=1]\n",
      "Epoch 66/100 [Val]: 100%|██████████| 6/6 [00:00<00:00, 82.17it/s]\n"
     ]
    },
    {
     "name": "stdout",
     "output_type": "stream",
     "text": [
      "Epoch [66/100] - Train Loss: 0.0005, Train Acc: 100.00% | Val Loss: 0.0000, Val Acc: 100.00% | LR: 0.000500\n",
      "Model improved. Saved checkpoint to ..\\models\\ISL_holistic_best.pt\n"
     ]
    },
    {
     "name": "stderr",
     "output_type": "stream",
     "text": [
      "Epoch 67/100 [Train]: 100%|██████████| 28/28 [00:00<00:00, 39.31it/s, loss=0.000146, acc=1]\n",
      "Epoch 67/100 [Val]: 100%|██████████| 6/6 [00:00<00:00, 98.12it/s]\n"
     ]
    },
    {
     "name": "stdout",
     "output_type": "stream",
     "text": [
      "Epoch [67/100] - Train Loss: 0.0004, Train Acc: 100.00% | Val Loss: 0.0000, Val Acc: 100.00% | LR: 0.000500\n",
      "Model improved. Saved checkpoint to ..\\models\\ISL_holistic_best.pt\n"
     ]
    },
    {
     "name": "stderr",
     "output_type": "stream",
     "text": [
      "Epoch 68/100 [Train]: 100%|██████████| 28/28 [00:00<00:00, 33.24it/s, loss=0.000201, acc=1]\n",
      "Epoch 68/100 [Val]: 100%|██████████| 6/6 [00:00<00:00, 64.80it/s]\n"
     ]
    },
    {
     "name": "stdout",
     "output_type": "stream",
     "text": [
      "Epoch [68/100] - Train Loss: 0.0004, Train Acc: 100.00% | Val Loss: 0.0000, Val Acc: 100.00% | LR: 0.000500\n",
      "Model improved. Saved checkpoint to ..\\models\\ISL_holistic_best.pt\n"
     ]
    },
    {
     "name": "stderr",
     "output_type": "stream",
     "text": [
      "Epoch 69/100 [Train]: 100%|██████████| 28/28 [00:01<00:00, 26.89it/s, loss=0.000983, acc=1]\n",
      "Epoch 69/100 [Val]: 100%|██████████| 6/6 [00:00<00:00, 31.56it/s]\n"
     ]
    },
    {
     "name": "stdout",
     "output_type": "stream",
     "text": [
      "Epoch [69/100] - Train Loss: 0.0006, Train Acc: 100.00% | Val Loss: 0.0000, Val Acc: 100.00% | LR: 0.000500\n",
      "Model improved. Saved checkpoint to ..\\models\\ISL_holistic_best.pt\n"
     ]
    },
    {
     "name": "stderr",
     "output_type": "stream",
     "text": [
      "Epoch 70/100 [Train]: 100%|██████████| 28/28 [00:00<00:00, 29.52it/s, loss=0.00029, acc=1] \n",
      "Epoch 70/100 [Val]: 100%|██████████| 6/6 [00:00<00:00, 30.06it/s]\n"
     ]
    },
    {
     "name": "stdout",
     "output_type": "stream",
     "text": [
      "Epoch [70/100] - Train Loss: 0.0003, Train Acc: 100.00% | Val Loss: 0.0000, Val Acc: 100.00% | LR: 0.000500\n",
      "Model improved. Saved checkpoint to ..\\models\\ISL_holistic_best.pt\n"
     ]
    },
    {
     "name": "stderr",
     "output_type": "stream",
     "text": [
      "Epoch 71/100 [Train]: 100%|██████████| 28/28 [00:00<00:00, 31.30it/s, loss=6.57e-5, acc=1] \n",
      "Epoch 71/100 [Val]: 100%|██████████| 6/6 [00:00<00:00, 81.98it/s]\n"
     ]
    },
    {
     "name": "stdout",
     "output_type": "stream",
     "text": [
      "Epoch [71/100] - Train Loss: 0.0006, Train Acc: 100.00% | Val Loss: 0.0000, Val Acc: 100.00% | LR: 0.000500\n",
      "Model improved. Saved checkpoint to ..\\models\\ISL_holistic_best.pt\n"
     ]
    },
    {
     "name": "stderr",
     "output_type": "stream",
     "text": [
      "Epoch 72/100 [Train]: 100%|██████████| 28/28 [00:00<00:00, 29.31it/s, loss=0.000906, acc=1]\n",
      "Epoch 72/100 [Val]: 100%|██████████| 6/6 [00:00<00:00, 48.58it/s]\n"
     ]
    },
    {
     "name": "stdout",
     "output_type": "stream",
     "text": [
      "Epoch [72/100] - Train Loss: 0.0005, Train Acc: 100.00% | Val Loss: 0.0000, Val Acc: 100.00% | LR: 0.000500\n",
      "Model improved. Saved checkpoint to ..\\models\\ISL_holistic_best.pt\n"
     ]
    },
    {
     "name": "stderr",
     "output_type": "stream",
     "text": [
      "Epoch 73/100 [Train]: 100%|██████████| 28/28 [00:01<00:00, 25.77it/s, loss=0.00663, acc=1] \n",
      "Epoch 73/100 [Val]: 100%|██████████| 6/6 [00:00<00:00, 55.23it/s]\n"
     ]
    },
    {
     "name": "stdout",
     "output_type": "stream",
     "text": [
      "Epoch [73/100] - Train Loss: 0.0004, Train Acc: 100.00% | Val Loss: 0.0000, Val Acc: 100.00% | LR: 0.000500\n",
      "Model improved. Saved checkpoint to ..\\models\\ISL_holistic_best.pt\n"
     ]
    },
    {
     "name": "stderr",
     "output_type": "stream",
     "text": [
      "Epoch 74/100 [Train]: 100%|██████████| 28/28 [00:01<00:00, 23.49it/s, loss=0.00028, acc=1] \n",
      "Epoch 74/100 [Val]: 100%|██████████| 6/6 [00:00<00:00, 33.26it/s]\n"
     ]
    },
    {
     "name": "stdout",
     "output_type": "stream",
     "text": [
      "Epoch [74/100] - Train Loss: 0.0002, Train Acc: 100.00% | Val Loss: 0.0000, Val Acc: 100.00% | LR: 0.000500\n",
      "Model improved. Saved checkpoint to ..\\models\\ISL_holistic_best.pt\n"
     ]
    },
    {
     "name": "stderr",
     "output_type": "stream",
     "text": [
      "Epoch 75/100 [Train]: 100%|██████████| 28/28 [00:00<00:00, 36.98it/s, loss=0.000182, acc=1]\n",
      "Epoch 75/100 [Val]: 100%|██████████| 6/6 [00:00<00:00, 31.32it/s]\n"
     ]
    },
    {
     "name": "stdout",
     "output_type": "stream",
     "text": [
      "Epoch [75/100] - Train Loss: 0.0003, Train Acc: 100.00% | Val Loss: 0.0000, Val Acc: 100.00% | LR: 0.000500\n",
      "Model improved. Saved checkpoint to ..\\models\\ISL_holistic_best.pt\n"
     ]
    },
    {
     "name": "stderr",
     "output_type": "stream",
     "text": [
      "Epoch 76/100 [Train]: 100%|██████████| 28/28 [00:00<00:00, 55.01it/s, loss=2.09e-5, acc=1] \n",
      "Epoch 76/100 [Val]: 100%|██████████| 6/6 [00:00<00:00, 43.55it/s]\n"
     ]
    },
    {
     "name": "stdout",
     "output_type": "stream",
     "text": [
      "Epoch [76/100] - Train Loss: 0.0005, Train Acc: 100.00% | Val Loss: 0.0000, Val Acc: 100.00% | LR: 0.000500\n",
      "Model improved. Saved checkpoint to ..\\models\\ISL_holistic_best.pt\n"
     ]
    },
    {
     "name": "stderr",
     "output_type": "stream",
     "text": [
      "Epoch 77/100 [Train]: 100%|██████████| 28/28 [00:00<00:00, 30.51it/s, loss=0.000311, acc=1]\n",
      "Epoch 77/100 [Val]: 100%|██████████| 6/6 [00:00<00:00, 36.74it/s]\n"
     ]
    },
    {
     "name": "stdout",
     "output_type": "stream",
     "text": [
      "Epoch [77/100] - Train Loss: 0.0003, Train Acc: 100.00% | Val Loss: 0.0000, Val Acc: 100.00% | LR: 0.000500\n",
      "Model improved. Saved checkpoint to ..\\models\\ISL_holistic_best.pt\n"
     ]
    },
    {
     "name": "stderr",
     "output_type": "stream",
     "text": [
      "Epoch 78/100 [Train]: 100%|██████████| 28/28 [00:00<00:00, 50.81it/s, loss=0.000289, acc=1]\n",
      "Epoch 78/100 [Val]: 100%|██████████| 6/6 [00:00<00:00, 81.55it/s]\n"
     ]
    },
    {
     "name": "stdout",
     "output_type": "stream",
     "text": [
      "Epoch [78/100] - Train Loss: 0.0002, Train Acc: 100.00% | Val Loss: 0.0000, Val Acc: 100.00% | LR: 0.000500\n",
      "Model improved. Saved checkpoint to ..\\models\\ISL_holistic_best.pt\n"
     ]
    },
    {
     "name": "stderr",
     "output_type": "stream",
     "text": [
      "Epoch 79/100 [Train]: 100%|██████████| 28/28 [00:00<00:00, 33.60it/s, loss=0.000214, acc=1]\n",
      "Epoch 79/100 [Val]: 100%|██████████| 6/6 [00:00<00:00, 71.74it/s]\n"
     ]
    },
    {
     "name": "stdout",
     "output_type": "stream",
     "text": [
      "Epoch [79/100] - Train Loss: 0.0004, Train Acc: 100.00% | Val Loss: 0.0000, Val Acc: 100.00% | LR: 0.000500\n",
      "Model improved. Saved checkpoint to ..\\models\\ISL_holistic_best.pt\n"
     ]
    },
    {
     "name": "stderr",
     "output_type": "stream",
     "text": [
      "Epoch 80/100 [Train]: 100%|██████████| 28/28 [00:00<00:00, 37.02it/s, loss=0.000111, acc=1]\n",
      "Epoch 80/100 [Val]: 100%|██████████| 6/6 [00:00<00:00, 40.43it/s]\n"
     ]
    },
    {
     "name": "stdout",
     "output_type": "stream",
     "text": [
      "Epoch [80/100] - Train Loss: 0.0003, Train Acc: 100.00% | Val Loss: 0.0000, Val Acc: 100.00% | LR: 0.000500\n",
      "Model improved. Saved checkpoint to ..\\models\\ISL_holistic_best.pt\n"
     ]
    },
    {
     "name": "stderr",
     "output_type": "stream",
     "text": [
      "Epoch 81/100 [Train]: 100%|██████████| 28/28 [00:00<00:00, 40.89it/s, loss=0.000158, acc=1]\n",
      "Epoch 81/100 [Val]: 100%|██████████| 6/6 [00:00<00:00, 91.75it/s]\n"
     ]
    },
    {
     "name": "stdout",
     "output_type": "stream",
     "text": [
      "Epoch [81/100] - Train Loss: 0.0003, Train Acc: 100.00% | Val Loss: 0.0000, Val Acc: 100.00% | LR: 0.000500\n",
      "Model improved. Saved checkpoint to ..\\models\\ISL_holistic_best.pt\n"
     ]
    },
    {
     "name": "stderr",
     "output_type": "stream",
     "text": [
      "Epoch 82/100 [Train]: 100%|██████████| 28/28 [00:00<00:00, 37.01it/s, loss=8.69e-5, acc=1] \n",
      "Epoch 82/100 [Val]: 100%|██████████| 6/6 [00:00<00:00, 33.65it/s]\n"
     ]
    },
    {
     "name": "stdout",
     "output_type": "stream",
     "text": [
      "Epoch [82/100] - Train Loss: 0.0005, Train Acc: 100.00% | Val Loss: 0.0000, Val Acc: 100.00% | LR: 0.000500\n",
      "Model improved. Saved checkpoint to ..\\models\\ISL_holistic_best.pt\n"
     ]
    },
    {
     "name": "stderr",
     "output_type": "stream",
     "text": [
      "Epoch 83/100 [Train]: 100%|██████████| 28/28 [00:00<00:00, 40.66it/s, loss=0.000931, acc=1]\n",
      "Epoch 83/100 [Val]: 100%|██████████| 6/6 [00:00<00:00, 75.99it/s]\n"
     ]
    },
    {
     "name": "stdout",
     "output_type": "stream",
     "text": [
      "Epoch [83/100] - Train Loss: 0.0003, Train Acc: 100.00% | Val Loss: 0.0000, Val Acc: 100.00% | LR: 0.000500\n",
      "Model improved. Saved checkpoint to ..\\models\\ISL_holistic_best.pt\n"
     ]
    },
    {
     "name": "stderr",
     "output_type": "stream",
     "text": [
      "Epoch 84/100 [Train]: 100%|██████████| 28/28 [00:00<00:00, 38.41it/s, loss=8.14e-5, acc=1] \n",
      "Epoch 84/100 [Val]: 100%|██████████| 6/6 [00:00<00:00, 85.09it/s]\n"
     ]
    },
    {
     "name": "stdout",
     "output_type": "stream",
     "text": [
      "Epoch [84/100] - Train Loss: 0.0004, Train Acc: 100.00% | Val Loss: 0.0000, Val Acc: 100.00% | LR: 0.000500\n",
      "Model improved. Saved checkpoint to ..\\models\\ISL_holistic_best.pt\n"
     ]
    },
    {
     "name": "stderr",
     "output_type": "stream",
     "text": [
      "Epoch 85/100 [Train]: 100%|██████████| 28/28 [00:00<00:00, 28.57it/s, loss=0.000804, acc=1]\n",
      "Epoch 85/100 [Val]: 100%|██████████| 6/6 [00:00<00:00, 92.19it/s]\n"
     ]
    },
    {
     "name": "stdout",
     "output_type": "stream",
     "text": [
      "Epoch [85/100] - Train Loss: 0.0002, Train Acc: 100.00% | Val Loss: 0.0000, Val Acc: 100.00% | LR: 0.000500\n",
      "Model improved. Saved checkpoint to ..\\models\\ISL_holistic_best.pt\n"
     ]
    },
    {
     "name": "stderr",
     "output_type": "stream",
     "text": [
      "Epoch 86/100 [Train]: 100%|██████████| 28/28 [00:00<00:00, 42.15it/s, loss=0.000134, acc=1]\n",
      "Epoch 86/100 [Val]: 100%|██████████| 6/6 [00:00<00:00, 88.75it/s]\n"
     ]
    },
    {
     "name": "stdout",
     "output_type": "stream",
     "text": [
      "Epoch [86/100] - Train Loss: 0.0002, Train Acc: 100.00% | Val Loss: 0.0000, Val Acc: 100.00% | LR: 0.000500\n",
      "Model improved. Saved checkpoint to ..\\models\\ISL_holistic_best.pt\n"
     ]
    },
    {
     "name": "stderr",
     "output_type": "stream",
     "text": [
      "Epoch 87/100 [Train]: 100%|██████████| 28/28 [00:00<00:00, 39.94it/s, loss=1.28e-5, acc=1] \n",
      "Epoch 87/100 [Val]: 100%|██████████| 6/6 [00:00<00:00, 32.86it/s]\n"
     ]
    },
    {
     "name": "stdout",
     "output_type": "stream",
     "text": [
      "Epoch [87/100] - Train Loss: 0.0003, Train Acc: 100.00% | Val Loss: 0.0000, Val Acc: 100.00% | LR: 0.000500\n",
      "Model improved. Saved checkpoint to ..\\models\\ISL_holistic_best.pt\n"
     ]
    },
    {
     "name": "stderr",
     "output_type": "stream",
     "text": [
      "Epoch 88/100 [Train]: 100%|██████████| 28/28 [00:00<00:00, 68.23it/s, loss=6.19e-5, acc=1] \n",
      "Epoch 88/100 [Val]: 100%|██████████| 6/6 [00:00<00:00, 107.19it/s]\n"
     ]
    },
    {
     "name": "stdout",
     "output_type": "stream",
     "text": [
      "Epoch [88/100] - Train Loss: 0.0004, Train Acc: 100.00% | Val Loss: 0.0000, Val Acc: 100.00% | LR: 0.000500\n",
      "Model improved. Saved checkpoint to ..\\models\\ISL_holistic_best.pt\n"
     ]
    },
    {
     "name": "stderr",
     "output_type": "stream",
     "text": [
      "Epoch 89/100 [Train]: 100%|██████████| 28/28 [00:00<00:00, 45.63it/s, loss=0.000937, acc=1]\n",
      "Epoch 89/100 [Val]: 100%|██████████| 6/6 [00:00<00:00, 105.81it/s]\n"
     ]
    },
    {
     "name": "stdout",
     "output_type": "stream",
     "text": [
      "Epoch [89/100] - Train Loss: 0.0002, Train Acc: 100.00% | Val Loss: 0.0000, Val Acc: 100.00% | LR: 0.000500\n",
      "Model improved. Saved checkpoint to ..\\models\\ISL_holistic_best.pt\n"
     ]
    },
    {
     "name": "stderr",
     "output_type": "stream",
     "text": [
      "Epoch 90/100 [Train]: 100%|██████████| 28/28 [00:00<00:00, 55.29it/s, loss=0.000212, acc=1]\n",
      "Epoch 90/100 [Val]: 100%|██████████| 6/6 [00:00<00:00, 54.00it/s]\n"
     ]
    },
    {
     "name": "stdout",
     "output_type": "stream",
     "text": [
      "Epoch [90/100] - Train Loss: 0.0003, Train Acc: 100.00% | Val Loss: 0.0000, Val Acc: 100.00% | LR: 0.000500\n",
      "Model improved. Saved checkpoint to ..\\models\\ISL_holistic_best.pt\n"
     ]
    },
    {
     "name": "stderr",
     "output_type": "stream",
     "text": [
      "Epoch 91/100 [Train]: 100%|██████████| 28/28 [00:00<00:00, 32.31it/s, loss=0.000364, acc=1]\n",
      "Epoch 91/100 [Val]: 100%|██████████| 6/6 [00:00<00:00, 81.13it/s]\n"
     ]
    },
    {
     "name": "stdout",
     "output_type": "stream",
     "text": [
      "Epoch [91/100] - Train Loss: 0.0002, Train Acc: 100.00% | Val Loss: 0.0000, Val Acc: 100.00% | LR: 0.000500\n",
      "Model improved. Saved checkpoint to ..\\models\\ISL_holistic_best.pt\n"
     ]
    },
    {
     "name": "stderr",
     "output_type": "stream",
     "text": [
      "Epoch 92/100 [Train]: 100%|██████████| 28/28 [00:00<00:00, 41.05it/s, loss=0.00496, acc=1] \n",
      "Epoch 92/100 [Val]: 100%|██████████| 6/6 [00:00<00:00, 51.43it/s]\n"
     ]
    },
    {
     "name": "stdout",
     "output_type": "stream",
     "text": [
      "Epoch [92/100] - Train Loss: 0.0004, Train Acc: 100.00% | Val Loss: 0.0000, Val Acc: 100.00% | LR: 0.000500\n",
      "Model improved. Saved checkpoint to ..\\models\\ISL_holistic_best.pt\n"
     ]
    },
    {
     "name": "stderr",
     "output_type": "stream",
     "text": [
      "Epoch 93/100 [Train]: 100%|██████████| 28/28 [00:00<00:00, 41.74it/s, loss=0.000114, acc=1]\n",
      "Epoch 93/100 [Val]: 100%|██████████| 6/6 [00:00<00:00, 98.97it/s]\n"
     ]
    },
    {
     "name": "stdout",
     "output_type": "stream",
     "text": [
      "Epoch [93/100] - Train Loss: 0.0002, Train Acc: 100.00% | Val Loss: 0.0000, Val Acc: 100.00% | LR: 0.000500\n",
      "Model improved. Saved checkpoint to ..\\models\\ISL_holistic_best.pt\n"
     ]
    },
    {
     "name": "stderr",
     "output_type": "stream",
     "text": [
      "Epoch 94/100 [Train]: 100%|██████████| 28/28 [00:00<00:00, 45.54it/s, loss=0.00127, acc=1] \n",
      "Epoch 94/100 [Val]: 100%|██████████| 6/6 [00:00<00:00, 89.62it/s]\n"
     ]
    },
    {
     "name": "stdout",
     "output_type": "stream",
     "text": [
      "Epoch [94/100] - Train Loss: 0.0002, Train Acc: 100.00% | Val Loss: 0.0000, Val Acc: 100.00% | LR: 0.000500\n",
      "Model improved. Saved checkpoint to ..\\models\\ISL_holistic_best.pt\n"
     ]
    },
    {
     "name": "stderr",
     "output_type": "stream",
     "text": [
      "Epoch 95/100 [Train]: 100%|██████████| 28/28 [00:00<00:00, 55.25it/s, loss=0.000113, acc=1]\n",
      "Epoch 95/100 [Val]: 100%|██████████| 6/6 [00:00<00:00, 108.07it/s]\n"
     ]
    },
    {
     "name": "stdout",
     "output_type": "stream",
     "text": [
      "Epoch [95/100] - Train Loss: 0.0003, Train Acc: 100.00% | Val Loss: 0.0000, Val Acc: 100.00% | LR: 0.000500\n",
      "Model improved. Saved checkpoint to ..\\models\\ISL_holistic_best.pt\n"
     ]
    },
    {
     "name": "stderr",
     "output_type": "stream",
     "text": [
      "Epoch 96/100 [Train]: 100%|██████████| 28/28 [00:00<00:00, 58.72it/s, loss=0.000749, acc=1]\n",
      "Epoch 96/100 [Val]: 100%|██████████| 6/6 [00:00<00:00, 52.24it/s]\n"
     ]
    },
    {
     "name": "stdout",
     "output_type": "stream",
     "text": [
      "Epoch [96/100] - Train Loss: 0.0002, Train Acc: 100.00% | Val Loss: 0.0000, Val Acc: 100.00% | LR: 0.000500\n",
      "Model improved. Saved checkpoint to ..\\models\\ISL_holistic_best.pt\n"
     ]
    },
    {
     "name": "stderr",
     "output_type": "stream",
     "text": [
      "Epoch 97/100 [Train]: 100%|██████████| 28/28 [00:00<00:00, 53.28it/s, loss=0.000593, acc=1]\n",
      "Epoch 97/100 [Val]: 100%|██████████| 6/6 [00:00<00:00, 93.86it/s]\n"
     ]
    },
    {
     "name": "stdout",
     "output_type": "stream",
     "text": [
      "Epoch [97/100] - Train Loss: 0.0002, Train Acc: 100.00% | Val Loss: 0.0000, Val Acc: 100.00% | LR: 0.000500\n",
      "Model improved. Saved checkpoint to ..\\models\\ISL_holistic_best.pt\n"
     ]
    },
    {
     "name": "stderr",
     "output_type": "stream",
     "text": [
      "Epoch 98/100 [Train]: 100%|██████████| 28/28 [00:00<00:00, 49.01it/s, loss=0.000229, acc=1]\n",
      "Epoch 98/100 [Val]: 100%|██████████| 6/6 [00:00<00:00, 94.89it/s]\n"
     ]
    },
    {
     "name": "stdout",
     "output_type": "stream",
     "text": [
      "Epoch [98/100] - Train Loss: 0.0003, Train Acc: 100.00% | Val Loss: 0.0000, Val Acc: 100.00% | LR: 0.000500\n",
      "Model improved. Saved checkpoint to ..\\models\\ISL_holistic_best.pt\n"
     ]
    },
    {
     "name": "stderr",
     "output_type": "stream",
     "text": [
      "Epoch 99/100 [Train]: 100%|██████████| 28/28 [00:00<00:00, 43.37it/s, loss=6.97e-5, acc=1] \n",
      "Epoch 99/100 [Val]: 100%|██████████| 6/6 [00:00<00:00, 82.74it/s]\n"
     ]
    },
    {
     "name": "stdout",
     "output_type": "stream",
     "text": [
      "Epoch [99/100] - Train Loss: 0.0002, Train Acc: 100.00% | Val Loss: 0.0000, Val Acc: 100.00% | LR: 0.000500\n",
      "Model improved. Saved checkpoint to ..\\models\\ISL_holistic_best.pt\n"
     ]
    },
    {
     "name": "stderr",
     "output_type": "stream",
     "text": [
      "Epoch 100/100 [Train]: 100%|██████████| 28/28 [00:00<00:00, 40.83it/s, loss=0.000126, acc=1]\n",
      "Epoch 100/100 [Val]: 100%|██████████| 6/6 [00:00<00:00, 99.15it/s]\n"
     ]
    },
    {
     "name": "stdout",
     "output_type": "stream",
     "text": [
      "Epoch [100/100] - Train Loss: 0.0003, Train Acc: 100.00% | Val Loss: 0.0000, Val Acc: 100.00% | LR: 0.000500\n",
      "Model improved. Saved checkpoint to ..\\models\\ISL_holistic_best.pt\n"
     ]
    },
    {
     "name": "stderr",
     "output_type": "stream",
     "text": [
      "Testing: 100%|██████████| 6/6 [00:00<00:00, 101.76it/s]\n"
     ]
    },
    {
     "name": "stdout",
     "output_type": "stream",
     "text": [
      "Test Loss: 0.0000, Test Accuracy: 100.00%\n",
      "Classification Report:\n",
      "              precision    recall  f1-score   support\n",
      "\n",
      "         bye       1.00      1.00      1.00        26\n",
      "       hello       1.00      1.00      1.00        29\n",
      "     namaste       1.00      1.00      1.00        27\n",
      "    practice       1.00      1.00      1.00        27\n",
      "       sorry       1.00      1.00      1.00        26\n",
      "    thankyou       1.00      1.00      1.00        25\n",
      "     welcome       1.00      1.00      1.00        29\n",
      "\n",
      "    accuracy                           1.00       189\n",
      "   macro avg       1.00      1.00      1.00       189\n",
      "weighted avg       1.00      1.00      1.00       189\n",
      "\n",
      "Training complete.\n"
     ]
    },
    {
     "data": {
      "image/png": "[encoded data removed]",
      "text/plain": [
       "<Figure size 1000x500 with 2 Axes>"
      ]
     },
     "metadata": {},
     "output_type": "display_data"
    },
    {
     "data": {
      "image/png": "[encoded data removed]",
      "text/plain": [
       "<Figure size 1000x800 with 2 Axes>"
      ]
     },
     "metadata": {},
     "output_type": "display_data"
    }
   ],
   "source": [
    "# Define paths and run training\n",
    "DATA_DIR = os.path.join(\"..\", \"data\", \"processed\")\n",
    "\n",
    "# Train the improved model with default parameters\n",
    "model, history = train_model(\n",
    "    data_dir=DATA_DIR,\n",
    "    model_name=\"ISL_holistic\",\n",
    "    num_epochs=100,\n",
    "    batch_size=32,\n",
    "    learning_rate=0.001,\n",
    "    hidden_size=128,\n",
    "    num_layers=2,\n",
    "    dropout=0.5,\n",
    "    weight_decay=1e-5,\n",
    "    patience=10\n",
    ")"
   ]
  },
  {
   "cell_type": "code",
   "execution_count": 7,
   "metadata": {},
   "outputs": [],
   "source": [
    "# Visualize attention weights for a sample\n",
    "def visualize_attention(model, dataset, sample_idx=0, save_path=None):\n",
    "    \"\"\"\n",
    "    Visualize the attention weights for a sample.\n",
    "    Shows which frames the model focuses on most for classification.\n",
    "    \"\"\"\n",
    "    model.eval()\n",
    "    device = next(model.parameters()).device\n",
    "    \n",
    "    # Get a sample\n",
    "    sequence, label = dataset[sample_idx]\n",
    "    true_label = dataset.idx2label[label.item()]\n",
    "    \n",
    "    # Add batch dimension\n",
    "    sequence = sequence.unsqueeze(0).to(device)\n",
    "    \n",
    "    # Get outputs and attention weights\n",
    "    with torch.no_grad():\n",
    "        outputs, attention_weights = model(sequence)\n",
    "        predicted = torch.argmax(outputs, dim=1).item()\n",
    "        predicted_label = dataset.idx2label[predicted]\n",
    "    \n",
    "    # Convert attention weights to numpy\n",
    "    attention_weights = attention_weights.squeeze().cpu().numpy()\n",
    "    \n",
    "    # Plot attention weights\n",
    "    plt.figure(figsize=(12, 4))\n",
    "    plt.bar(range(len(attention_weights)), attention_weights)\n",
    "    plt.xlabel('Frame')\n",
    "    plt.ylabel('Attention Weight')\n",
    "    plt.title(f'Attention Weights - True: {true_label}, Predicted: {predicted_label}')\n",
    "    \n",
    "    if save_path:\n",
    "        plt.savefig(save_path)\n",
    "    \n",
    "    plt.show()\n",
    "    \n",
    "    return attention_weights\n",
    "\n",
    "# Load best model for analysis\n",
    "def load_model_for_analysis(model_path):\n",
    "    checkpoint = torch.load(model_path, map_location='cpu')\n",
    "    label2idx = checkpoint['label2idx']\n",
    "    idx2label = checkpoint['idx2label']\n",
    "    \n",
    "    # Create model with same architecture\n",
    "    input_size = next(iter(checkpoint['model_state_dict'].items()))[1].shape[1]\n",
    "    model = ImprovedGestureLSTM(\n",
    "        input_size=input_size,\n",
    "        hidden_size=128,\n",
    "        num_layers=2,\n",
    "        num_classes=len(idx2label)\n",
    "    )\n",
    "    \n",
    "    model.load_state_dict(checkpoint['model_state_dict'])\n",
    "    \n",
    "    return model, label2idx, idx2label\n",
    "\n",
    "# Example usage"
   ]
  },
  {
   "cell_type": "code",
   "execution_count": 10,
   "metadata": {},
   "outputs": [],
   "source": [
    "def create_test_dataset():\n",
    "    \"\"\"\n",
    "    Create a test dataset from a portion of your processed data.\n",
    "    Use this if you don't have a separate test directory.\n",
    "    \"\"\"\n",
    "    processed_dir = \"../data/processed\"\n",
    "    test_dir = \"../data/test\"\n",
    "    os.makedirs(test_dir, exist_ok=True)\n",
    "    \n",
    "    # Get all unique gesture types\n",
    "    all_files = os.listdir(processed_dir)\n",
    "    gesture_types = set()\n",
    "    for file in all_files:\n",
    "        if file.endswith('.npy'):\n",
    "            gesture = file.split('_')[0]\n",
    "            gesture_types.add(gesture)\n",
    "    \n",
    "    # Copy a few examples of each gesture to the test directory\n",
    "    for gesture in gesture_types:\n",
    "        gesture_files = [f for f in all_files if f.startswith(gesture) and not f.endswith(('noise1.npy', 'noise2.npy', 'warp1.npy', 'warp2.npy', 'shift1.npy'))]\n",
    "        \n",
    "        # Take at most 3 files per gesture\n",
    "        test_files = gesture_files[:3]\n",
    "        \n",
    "        for file in test_files:\n",
    "            src = os.path.join(processed_dir, file)\n",
    "            dst = os.path.join(test_dir, file)\n",
    "            shutil.copy(src, dst)\n",
    "            \n",
    "    print(f\"Created test dataset with examples from {len(gesture_types)} gesture types\")\n",
    "    return test_dir\n"
   ]
  },
  {
   "cell_type": "code",
   "execution_count": 11,
   "metadata": {},
   "outputs": [
    {
     "name": "stdout",
     "output_type": "stream",
     "text": [
      "Created test dataset with examples from 7 gesture types\n",
      "Found 21 samples with 7 classes\n",
      "Label mapping: {'bye': 0, 'hello': 1, 'namaste': 2, 'practice': 3, 'sorry': 4, 'thankyou': 5, 'welcome': 6}\n"
     ]
    },
    {
     "data": {
      "image/png": "[encoded data removed]",
      "text/plain": [
       "<Figure size 1200x400 with 1 Axes>"
      ]
     },
     "metadata": {},
     "output_type": "display_data"
    },
    {
     "data": {
      "text/plain": [
       "array([0.0576335 , 0.03307764, 0.02495308, 0.02207001, 0.02169143,\n",
       "       0.02195263, 0.02427531, 0.02322024, 0.02257195, 0.0225742 ,\n",
       "       0.02279165, 0.02284871, 0.02307507, 0.02367374, 0.02429726,\n",
       "       0.02516596, 0.025012  , 0.02485233, 0.02471397, 0.02469216,\n",
       "       0.02494613, 0.0252187 , 0.025933  , 0.0271381 , 0.02913444,\n",
       "       0.03233384, 0.03826688, 0.05042625, 0.07717766, 0.15428206],\n",
       "      dtype=float32)"
      ]
     },
     "execution_count": 11,
     "metadata": {},
     "output_type": "execute_result"
    }
   ],
   "source": [
    "create_test_dataset()\n",
    "model, label2idx, idx2label = load_model_for_analysis(os.path.join(\"..\", \"models\", \"ISL_holistic_best.pt\"))\n",
    "test_dataset = EnhancedGestureDataset(os.path.join(\"..\", \"data\", \"test\"))\n",
    "visualize_attention(model, test_dataset, sample_idx=0, save_path=os.path.join(\"..\", \"graphs\", \"attention_weights.png\"))"
   ]
  },
  {
   "cell_type": "code",
   "execution_count": 7,
   "metadata": {},
   "outputs": [],
   "source": [
    "class RealTimeSignLanguageDetection:\n",
    "    def __init__(self, model_path=\"../models/ISL_holistic_best.pt\", sequence_length=30, threshold=0.7):\n",
    "        \"\"\"\n",
    "        Initialize the real-time sign language detection system.\n",
    "        \n",
    "        Args:\n",
    "            model_path: Path to the saved model checkpoint\n",
    "            sequence_length: Length of the sequence to be fed to the model\n",
    "            threshold: Confidence threshold for predictions\n",
    "        \"\"\"\n",
    "        # Set device\n",
    "        self.device = torch.device('cuda' if torch.cuda.is_available() else 'cpu')\n",
    "        print(f\"Using device: {self.device}\")\n",
    "        \n",
    "        # Load model\n",
    "        self.load_model(model_path)\n",
    "        \n",
    "        # Initialize MediaPipe\n",
    "        self.mp_holistic = mp.solutions.holistic\n",
    "        self.mp_drawing = mp.solutions.drawing_utils\n",
    "        self.mp_drawing_styles = mp.solutions.drawing_styles\n",
    "        self.holistic = self.mp_holistic.Holistic(\n",
    "            min_detection_confidence=0.5,\n",
    "            min_tracking_confidence=0.5\n",
    "        )\n",
    "        \n",
    "        # Initialize sequence parameters\n",
    "        self.sequence_length = sequence_length\n",
    "        self.threshold = threshold\n",
    "        self.sequence_buffer = []\n",
    "        \n",
    "        # For prediction smoothing\n",
    "        self.prediction_history = deque(maxlen=5)\n",
    "        \n",
    "        # For feature calculation\n",
    "        self.previous_result = None\n",
    "        self.previous_results_buffer = []\n",
    "        \n",
    "        # For FPS calculation\n",
    "        self.fps_counter = 0\n",
    "        self.fps_start_time = time.time()\n",
    "        self.fps = 0\n",
    "        \n",
    "    def load_model(self, model_path):\n",
    "        \"\"\"Load the trained model from checkpoint\"\"\"\n",
    "        try:\n",
    "            self.checkpoint = torch.load(model_path, map_location=self.device)\n",
    "            \n",
    "            # Get label mapping\n",
    "            self.label2idx = self.checkpoint['label2idx']\n",
    "            self.idx2label = self.checkpoint['idx2label']\n",
    "            \n",
    "            # Create model\n",
    "            input_size = 354  # Match your training feature dimension\n",
    "            hidden_size = 128\n",
    "            num_layers = 2\n",
    "            num_classes = len(self.idx2label)\n",
    "            \n",
    "            self.model = ImprovedGestureLSTM(\n",
    "                input_size=input_size,\n",
    "                hidden_size=hidden_size,\n",
    "                num_layers=num_layers,\n",
    "                num_classes=num_classes\n",
    "            )\n",
    "            \n",
    "            # Load model weights\n",
    "            self.model.load_state_dict(self.checkpoint['model_state_dict'])\n",
    "            self.model.to(self.device)\n",
    "            self.model.eval()\n",
    "            \n",
    "            print(f\"Model loaded with {num_classes} classes: {list(self.idx2label.values())}\")\n",
    "            \n",
    "        except Exception as e:\n",
    "            print(f\"Error loading model: {e}\")\n",
    "            raise\n",
    "\n",
    "    def extract_keypoints(self, results):\n",
    "        \"\"\"\n",
    "        Extract keypoints from MediaPipe results in the same format used during training.\n",
    "        \"\"\"\n",
    "        # Extract left hand landmarks\n",
    "        lh = np.zeros(63) if results.left_hand_landmarks is None else \\\n",
    "             np.array([[lm.x, lm.y, lm.z] for lm in results.left_hand_landmarks.landmark]).flatten()\n",
    "        \n",
    "        # Extract right hand landmarks\n",
    "        rh = np.zeros(63) if results.right_hand_landmarks is None else \\\n",
    "             np.array([[lm.x, lm.y, lm.z] for lm in results.right_hand_landmarks.landmark]).flatten()\n",
    "        \n",
    "        # Extract pose landmarks (upper body only)\n",
    "        upper_body_indices = [0, 11, 12, 13, 14, 15, 16, 23, 24]\n",
    "        pose = np.zeros(len(upper_body_indices) * 3)\n",
    "        \n",
    "        if results.pose_landmarks:\n",
    "            landmarks = results.pose_landmarks.landmark\n",
    "            for i, idx in enumerate(upper_body_indices):\n",
    "                if idx < len(landmarks):\n",
    "                    pose[i*3:(i*3)+3] = [landmarks[idx].x, landmarks[idx].y, landmarks[idx].z]\n",
    "        \n",
    "        # Calculate relative positions\n",
    "        relative_features = []\n",
    "        \n",
    "        if results.pose_landmarks and (results.left_hand_landmarks or results.right_hand_landmarks):\n",
    "            # Reference points (shoulders)\n",
    "            left_shoulder = np.array([landmarks[11].x, landmarks[11].y, landmarks[11].z]) if 11 < len(landmarks) else np.zeros(3)\n",
    "            right_shoulder = np.array([landmarks[12].x, landmarks[12].y, landmarks[12].z]) if 12 < len(landmarks) else np.zeros(3)\n",
    "            \n",
    "            # Hand center points (if detected)\n",
    "            if results.left_hand_landmarks:\n",
    "                left_hand_center = np.mean(np.array([[lm.x, lm.y, lm.z] for lm in results.left_hand_landmarks.landmark]), axis=0)\n",
    "                relative_features.extend(left_hand_center - left_shoulder)\n",
    "            else:\n",
    "                relative_features.extend(np.zeros(3))\n",
    "            \n",
    "            if results.right_hand_landmarks:\n",
    "                right_hand_center = np.mean(np.array([[lm.x, lm.y, lm.z] for lm in results.right_hand_landmarks.landmark]), axis=0)\n",
    "                relative_features.extend(right_hand_center - right_shoulder)\n",
    "            else:\n",
    "                relative_features.extend(np.zeros(3))\n",
    "                \n",
    "            # Distance between hands (if both detected)\n",
    "            if results.left_hand_landmarks and results.right_hand_landmarks:\n",
    "                hand_distance = right_hand_center - left_hand_center\n",
    "                relative_features.extend(hand_distance)\n",
    "            else:\n",
    "                relative_features.extend(np.zeros(3))\n",
    "        else:\n",
    "            # Add placeholder zeros if landmarks aren't detected\n",
    "            relative_features = np.zeros(9)\n",
    "        \n",
    "        # Base features\n",
    "        base_features = np.concatenate([lh, rh, pose, relative_features])\n",
    "        \n",
    "        # Calculate velocity features if we have a previous frame\n",
    "        if self.previous_result is not None:\n",
    "            previous_features = self.extract_base_keypoints(self.previous_result)\n",
    "            velocity_features = base_features - previous_features\n",
    "        else:\n",
    "            velocity_features = np.zeros_like(base_features)\n",
    "        \n",
    "        # Extract hand shape dynamics\n",
    "        shape_features = self.extract_hand_shape_features(results)\n",
    "        \n",
    "        # Additional features used in training - placeholders to match dimensions\n",
    "        additional_features = np.zeros(354 - len(base_features) - len(velocity_features) - len(shape_features))\n",
    "        \n",
    "        # Combine all features\n",
    "        features = np.concatenate([\n",
    "            base_features,\n",
    "            velocity_features,\n",
    "            shape_features,\n",
    "            additional_features\n",
    "        ])\n",
    "        \n",
    "        # Update previous result for next frame\n",
    "        self.previous_result = results\n",
    "        \n",
    "        # Ensure exactly 354 dimensions\n",
    "        assert features.shape[0] == 354, f\"Feature dimension mismatch: {features.shape[0]} != 354\"\n",
    "        \n",
    "        return features\n",
    "    \n",
    "    def extract_base_keypoints(self, results):\n",
    "        \"\"\"Extract base keypoints for velocity calculation\"\"\"\n",
    "        # Extract left hand landmarks\n",
    "        lh = np.zeros(63) if results.left_hand_landmarks is None else \\\n",
    "             np.array([[lm.x, lm.y, lm.z] for lm in results.left_hand_landmarks.landmark]).flatten()\n",
    "        \n",
    "        # Extract right hand landmarks\n",
    "        rh = np.zeros(63) if results.right_hand_landmarks is None else \\\n",
    "             np.array([[lm.x, lm.y, lm.z] for lm in results.right_hand_landmarks.landmark]).flatten()\n",
    "        \n",
    "        # Extract pose landmarks\n",
    "        upper_body_indices = [0, 11, 12, 13, 14, 15, 16, 23, 24]\n",
    "        pose = np.zeros(len(upper_body_indices) * 3)\n",
    "        \n",
    "        if results.pose_landmarks:\n",
    "            landmarks = results.pose_landmarks.landmark\n",
    "            for i, idx in enumerate(upper_body_indices):\n",
    "                if idx < len(landmarks):\n",
    "                    pose[i*3:(i*3)+3] = [landmarks[idx].x, landmarks[idx].y, landmarks[idx].z]\n",
    "        \n",
    "        # Calculate relative positions\n",
    "        relative_features = []\n",
    "        \n",
    "        if results.pose_landmarks and (results.left_hand_landmarks or results.right_hand_landmarks):\n",
    "            # Reference points (shoulders)\n",
    "            left_shoulder = np.array([landmarks[11].x, landmarks[11].y, landmarks[11].z]) if 11 < len(landmarks) else np.zeros(3)\n",
    "            right_shoulder = np.array([landmarks[12].x, landmarks[12].y, landmarks[12].z]) if 12 < len(landmarks) else np.zeros(3)\n",
    "            \n",
    "            # Hand center points (if detected)\n",
    "            if results.left_hand_landmarks:\n",
    "                left_hand_center = np.mean(np.array([[lm.x, lm.y, lm.z] for lm in results.left_hand_landmarks.landmark]), axis=0)\n",
    "                relative_features.extend(left_hand_center - left_shoulder)\n",
    "            else:\n",
    "                relative_features.extend(np.zeros(3))\n",
    "            \n",
    "            if results.right_hand_landmarks:\n",
    "                right_hand_center = np.mean(np.array([[lm.x, lm.y, lm.z] for lm in results.right_hand_landmarks.landmark]), axis=0)\n",
    "                relative_features.extend(right_hand_center - right_shoulder)\n",
    "            else:\n",
    "                relative_features.extend(np.zeros(3))\n",
    "                \n",
    "            # Distance between hands (if both detected)\n",
    "            if results.left_hand_landmarks and results.right_hand_landmarks:\n",
    "                hand_distance = right_hand_center - left_hand_center\n",
    "                relative_features.extend(hand_distance)\n",
    "            else:\n",
    "                relative_features.extend(np.zeros(3))\n",
    "        else:\n",
    "            # Add placeholder zeros if landmarks aren't detected\n",
    "            relative_features = np.zeros(9)\n",
    "        \n",
    "        return np.concatenate([lh, rh, pose, relative_features])\n",
    "    \n",
    "    def extract_hand_shape_features(self, results):\n",
    "        \"\"\"Extract features related to hand shape configuration\"\"\"\n",
    "        shape_features = []\n",
    "        \n",
    "        # For right hand\n",
    "        if results.right_hand_landmarks:\n",
    "            landmarks = results.right_hand_landmarks.landmark\n",
    "            \n",
    "            # Calculate finger spread (distance between fingertips)\n",
    "            fingertips = [4, 8, 12, 16, 20]  # Thumb, index, middle, ring, pinky\n",
    "            fingertip_positions = [np.array([landmarks[idx].x, landmarks[idx].y, landmarks[idx].z]) \n",
    "                                  for idx in fingertips]\n",
    "            \n",
    "            # Measure spread: sum of distances between adjacent fingertips\n",
    "            finger_spread = 0\n",
    "            for i in range(len(fingertips)-1):\n",
    "                finger_spread += np.linalg.norm(fingertip_positions[i] - fingertip_positions[i+1])\n",
    "            \n",
    "            # Thumb-index pinch distance (important for many signs)\n",
    "            thumb_tip = np.array([landmarks[4].x, landmarks[4].y, landmarks[4].z])\n",
    "            index_tip = np.array([landmarks[8].x, landmarks[8].y, landmarks[8].z])\n",
    "            pinch_distance = np.linalg.norm(thumb_tip - index_tip)\n",
    "            \n",
    "            shape_features.extend([finger_spread, pinch_distance])\n",
    "        else:\n",
    "            shape_features.extend([0, 0])\n",
    "        \n",
    "        # For left hand\n",
    "        if results.left_hand_landmarks:\n",
    "            landmarks = results.left_hand_landmarks.landmark\n",
    "            \n",
    "            fingertips = [4, 8, 12, 16, 20]\n",
    "            fingertip_positions = [np.array([landmarks[idx].x, landmarks[idx].y, landmarks[idx].z]) \n",
    "                                  for idx in fingertips]\n",
    "            \n",
    "            finger_spread = 0\n",
    "            for i in range(len(fingertips)-1):\n",
    "                finger_spread += np.linalg.norm(fingertip_positions[i] - fingertip_positions[i+1])\n",
    "            \n",
    "            thumb_tip = np.array([landmarks[4].x, landmarks[4].y, landmarks[4].z])\n",
    "            index_tip = np.array([landmarks[8].x, landmarks[8].y, landmarks[8].z])\n",
    "            pinch_distance = np.linalg.norm(thumb_tip - index_tip)\n",
    "            \n",
    "            shape_features.extend([finger_spread, pinch_distance])\n",
    "        else:\n",
    "            shape_features.extend([0, 0])\n",
    "        \n",
    "        return np.array(shape_features)\n",
    "\n",
    "    def draw_landmarks(self, frame, results):\n",
    "        \"\"\"Draw MediaPipe landmarks on the frame\"\"\"\n",
    "        # Draw pose connections\n",
    "        self.mp_drawing.draw_landmarks(\n",
    "            frame,\n",
    "            results.pose_landmarks,\n",
    "            self.mp_holistic.POSE_CONNECTIONS,\n",
    "            landmark_drawing_spec=self.mp_drawing_styles.get_default_pose_landmarks_style())\n",
    "        \n",
    "        # Draw hand connections\n",
    "        self.mp_drawing.draw_landmarks(\n",
    "            frame,\n",
    "            results.left_hand_landmarks,\n",
    "            self.mp_holistic.HAND_CONNECTIONS,\n",
    "            landmark_drawing_spec=self.mp_drawing_styles.get_default_hand_landmarks_style())\n",
    "        \n",
    "        self.mp_drawing.draw_landmarks(\n",
    "            frame,\n",
    "            results.right_hand_landmarks,\n",
    "            self.mp_holistic.HAND_CONNECTIONS,\n",
    "            landmark_drawing_spec=self.mp_drawing_styles.get_default_hand_landmarks_style())\n",
    "\n",
    "    def calculate_fps(self):\n",
    "        \"\"\"Calculate and update frames per second\"\"\"\n",
    "        self.fps_counter += 1\n",
    "        current_time = time.time()\n",
    "        if (current_time - self.fps_start_time) >= 1:\n",
    "            self.fps = self.fps_counter\n",
    "            self.fps_counter = 0\n",
    "            self.fps_start_time = current_time\n",
    "    \n",
    "    def smooth_prediction(self, prediction_idx, confidence):\n",
    "        \"\"\"Apply temporal smoothing to predictions to reduce flickering\"\"\"\n",
    "        if confidence > self.threshold:\n",
    "            self.prediction_history.append(prediction_idx)\n",
    "            \n",
    "            # Return the most common prediction from the recent history\n",
    "            if len(self.prediction_history) > 2:\n",
    "                # Fixed: Handle mode function properly for different scipy versions\n",
    "                prediction_counts = {}\n",
    "                for pred in self.prediction_history:\n",
    "                    if pred in prediction_counts:\n",
    "                        prediction_counts[pred] += 1\n",
    "                    else:\n",
    "                        prediction_counts[pred] = 1\n",
    "                \n",
    "                # Find the most common prediction\n",
    "                most_common_pred = max(prediction_counts, key=prediction_counts.get)\n",
    "                return most_common_pred, self.idx2label[most_common_pred]\n",
    "        \n",
    "        # If confidence is too low or not enough history\n",
    "        if len(self.prediction_history) > 0:\n",
    "            last_pred = self.prediction_history[-1]\n",
    "            return last_pred, self.idx2label[last_pred]\n",
    "        \n",
    "        # Default if no predictions yet\n",
    "        return -1, \"Waiting...\"\n",
    "    \n",
    "    def start_detection(self):\n",
    "        \"\"\"Start real-time sign language detection using webcam\"\"\"\n",
    "        # Initialize video capture\n",
    "        cap = cv2.VideoCapture(0)\n",
    "        \n",
    "        while cap.isOpened():\n",
    "            # Read frame\n",
    "            ret, frame = cap.read()\n",
    "            if not ret:\n",
    "                print(\"Failed to capture frame from webcam\")\n",
    "                break\n",
    "            \n",
    "            # Calculate FPS\n",
    "            self.calculate_fps()\n",
    "            \n",
    "            # Mirror display (more intuitive for user)\n",
    "            frame = cv2.flip(frame, 1)\n",
    "            \n",
    "            # Convert to RGB for MediaPipe\n",
    "            frame_rgb = cv2.cvtColor(frame, cv2.COLOR_BGR2RGB)\n",
    "            \n",
    "            # Process with MediaPipe\n",
    "            results = self.holistic.process(frame_rgb)\n",
    "            \n",
    "            # Draw landmarks if detected\n",
    "            if results.pose_landmarks or results.left_hand_landmarks or results.right_hand_landmarks:\n",
    "                self.draw_landmarks(frame, results)\n",
    "                \n",
    "                # Extract features\n",
    "                features = self.extract_keypoints(results)\n",
    "                \n",
    "                # Add to sequence buffer\n",
    "                self.sequence_buffer.append(features)\n",
    "                if len(self.sequence_buffer) > self.sequence_length:\n",
    "                    self.sequence_buffer.pop(0)\n",
    "            \n",
    "            # Initialize prediction text\n",
    "            prediction = \"Collecting frames...\"\n",
    "            confidence = 0.0\n",
    "            \n",
    "            # Make prediction when buffer is full\n",
    "            if len(self.sequence_buffer) == self.sequence_length:\n",
    "                # Convert buffer to tensor\n",
    "                sequence = np.array(self.sequence_buffer)\n",
    "                sequence_tensor = torch.tensor(sequence, dtype=torch.float32).unsqueeze(0).to(self.device)\n",
    "                \n",
    "                # Get model prediction\n",
    "                with torch.no_grad():\n",
    "                    outputs, attention_weights = self.model(sequence_tensor)\n",
    "                    probs = torch.nn.functional.softmax(outputs, dim=1)[0]\n",
    "                    \n",
    "                    # Get highest probability prediction\n",
    "                    predicted_idx = torch.argmax(probs).item()\n",
    "                    confidence = probs[predicted_idx].item()\n",
    "                    \n",
    "                    # Apply smoothing\n",
    "                    final_idx, prediction = self.smooth_prediction(predicted_idx, confidence)\n",
    "            \n",
    "            # Create overlay for text background\n",
    "            overlay = frame.copy()\n",
    "            cv2.rectangle(overlay, (10, 10), (frame.shape[1] - 10, 130), (0, 0, 0), -1)\n",
    "            alpha = 0.4\n",
    "            cv2.addWeighted(overlay, alpha, frame, 1 - alpha, 0, frame)\n",
    "            \n",
    "            # Add text information\n",
    "            cv2.putText(frame, f\"Prediction: {prediction}\", (20, 40), \n",
    "                       cv2.FONT_HERSHEY_SIMPLEX, 1, (255, 255, 255), 2)\n",
    "            cv2.putText(frame, f\"Confidence: {confidence:.2f}\", (20, 80), \n",
    "                       cv2.FONT_HERSHEY_SIMPLEX, 0.75, (255, 255, 255), 1)\n",
    "            cv2.putText(frame, f\"FPS: {self.fps}\", (20, 120), \n",
    "                       cv2.FONT_HERSHEY_SIMPLEX, 0.75, (255, 255, 255), 1)\n",
    "            \n",
    "            # Display sequence buffer status bar\n",
    "            buffer_width = frame.shape[1] - 40\n",
    "            buffer_height = 15\n",
    "            buffer_fullness = len(self.sequence_buffer) / self.sequence_length\n",
    "            cv2.rectangle(frame, (20, 150), (20 + buffer_width, 150 + buffer_height), (100, 100, 100), 2)\n",
    "            cv2.rectangle(frame, (20, 150), (20 + int(buffer_width * buffer_fullness), 150 + buffer_height), \n",
    "                         (0, 255, 0), -1)\n",
    "            \n",
    "            # Display frame\n",
    "            cv2.imshow(\"Sign Language Recognition\", frame)\n",
    "            \n",
    "            # Exit on 'q' press\n",
    "            if cv2.waitKey(1) & 0xFF == ord('q'):\n",
    "                break\n",
    "        \n",
    "        # Release resources\n",
    "        cap.release()\n",
    "        cv2.destroyAllWindows()\n",
    "        self.holistic.close()\n"
   ]
  },
  {
   "cell_type": "code",
   "execution_count": 8,
   "metadata": {},
   "outputs": [
    {
     "name": "stdout",
     "output_type": "stream",
     "text": [
      "Using device: cuda\n",
      "Model loaded with 7 classes: ['bye', 'hello', 'namaste', 'practice', 'sorry', 'thankyou', 'welcome']\n"
     ]
    }
   ],
   "source": [
    "detector = RealTimeSignLanguageDetection()\n",
    "detector.start_detection()"
   ]
  }
 ],
 "metadata": {
  "kernelspec": {
   "display_name": ".venv",
   "language": "python",
   "name": "python3"
  },
  "language_info": {
   "codemirror_mode": {
    "name": "ipython",
    "version": 3
   },
   "file_extension": ".py",
   "mimetype": "text/x-python",
   "name": "python",
   "nbconvert_exporter": "python",
   "pygments_lexer": "ipython3",
   "version": "3.12.9"
  }
 },
 "nbformat": 4,
 "nbformat_minor": 2
}
